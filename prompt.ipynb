{
 "cells": [
  {
   "cell_type": "markdown",
   "metadata": {},
   "source": [
    "### Will a Customer Accept the Coupon?\n",
    "\n",
    "**Context**\n",
    "\n",
    "Imagine driving through town and a coupon is delivered to your cell phone for a restaraunt near where you are driving. Would you accept that coupon and take a short detour to the restaraunt? Would you accept the coupon but use it on a sunbsequent trip? Would you ignore the coupon entirely? What if the coupon was for a bar instead of a restaraunt? What about a coffee house? Would you accept a bar coupon with a minor passenger in the car? What about if it was just you and your partner in the car? Would weather impact the rate of acceptance? What about the time of day?\n",
    "\n",
    "Obviously, proximity to the business is a factor on whether the coupon is delivered to the driver or not, but what are the factors that determine whether a driver accepts the coupon once it is delivered to them? How would you determine whether a driver is likely to accept a coupon?\n",
    "\n",
    "**Overview**\n",
    "\n",
    "The goal of this project is to use what you know about visualizations and probability distributions to distinguish between customers who accepted a driving coupon versus those that did not.\n",
    "\n",
    "**Data**\n",
    "\n",
    "This data comes to us from the UCI Machine Learning repository and was collected via a survey on Amazon Mechanical Turk. The survey describes different driving scenarios including the destination, current time, weather, passenger, etc., and then ask the person whether he will accept the coupon if he is the driver. Answers that the user will drive there ‘right away’ or ‘later before the coupon expires’ are labeled as ‘Y = 1’ and answers ‘no, I do not want the coupon’ are labeled as ‘Y = 0’.  There are five different types of coupons -- less expensive restaurants (under \\\\$20), coffee houses, carry out & take away, bar, and more expensive restaurants (\\\\$20 - \\\\$50). "
   ]
  },
  {
   "cell_type": "markdown",
   "metadata": {},
   "source": [
    "**Deliverables**\n",
    "\n",
    "Your final product should be a brief report that highlights the differences between customers who did and did not accept the coupons.  To explore the data you will utilize your knowledge of plotting, statistical summaries, and visualization using Python. You will publish your findings in a public facing github repository as your first portfolio piece. \n",
    "\n",
    "\n",
    "\n"
   ]
  },
  {
   "cell_type": "markdown",
   "metadata": {},
   "source": [
    "### Data Description\n",
    "Keep in mind that these values mentioned below are average values.\n",
    "\n",
    "The attributes of this data set include:\n",
    "1. User attributes\n",
    "    -  Gender: male, female\n",
    "    -  Age: below 21, 21 to 25, 26 to 30, etc.\n",
    "    -  Marital Status: single, married partner, unmarried partner, or widowed\n",
    "    -  Number of children: 0, 1, or more than 1\n",
    "    -  Education: high school, bachelors degree, associates degree, or graduate degree\n",
    "    -  Occupation: architecture & engineering, business & financial, etc.\n",
    "    -  Annual income: less than \\\\$12500, \\\\$12500 - \\\\$24999, \\\\$25000 - \\\\$37499, etc.\n",
    "    -  Number of times that he/she goes to a bar: 0, less than 1, 1 to 3, 4 to 8 or greater than 8\n",
    "    -  Number of times that he/she buys takeaway food: 0, less than 1, 1 to 3, 4 to 8 or greater\n",
    "    than 8\n",
    "    -  Number of times that he/she goes to a coffee house: 0, less than 1, 1 to 3, 4 to 8 or\n",
    "    greater than 8\n",
    "    -  Number of times that he/she eats at a restaurant with average expense less than \\\\$20 per\n",
    "    person: 0, less than 1, 1 to 3, 4 to 8 or greater than 8\n",
    "    -  Number of times that he/she goes to a bar: 0, less than 1, 1 to 3, 4 to 8 or greater than 8\n",
    "    \n",
    "\n",
    "2. Contextual attributes\n",
    "    - Driving destination: home, work, or no urgent destination\n",
    "    - Location of user, coupon and destination: we provide a map to show the geographical\n",
    "    location of the user, destination, and the venue, and we mark the distance between each\n",
    "    two places with time of driving. The user can see whether the venue is in the same\n",
    "    direction as the destination.\n",
    "    - Weather: sunny, rainy, or snowy\n",
    "    - Temperature: 30F, 55F, or 80F\n",
    "    - Time: 10AM, 2PM, or 6PM\n",
    "    - Passenger: alone, partner, kid(s), or friend(s)\n",
    "\n",
    "\n",
    "3. Coupon attributes\n",
    "    - time before it expires: 2 hours or one day"
   ]
  },
  {
   "cell_type": "code",
   "execution_count": 2,
   "metadata": {},
   "outputs": [],
   "source": [
    "import matplotlib.pyplot as plt\n",
    "import seaborn as sns\n",
    "import pandas as pd\n",
    "import numpy as np\n",
    "import plotly.express as px"
   ]
  },
  {
   "cell_type": "markdown",
   "metadata": {},
   "source": [
    "### Problems\n",
    "\n",
    "Use the prompts below to get started with your data analysis.  \n",
    "\n",
    "1. Read in the `coupons.csv` file.\n",
    "\n",
    "\n"
   ]
  },
  {
   "cell_type": "code",
   "execution_count": 3,
   "metadata": {},
   "outputs": [],
   "source": [
    "data = pd.read_csv('data/coupons.csv')"
   ]
  },
  {
   "cell_type": "code",
   "execution_count": 4,
   "metadata": {},
   "outputs": [
    {
     "data": {
      "text/html": [
       "<div>\n",
       "<style scoped>\n",
       "    .dataframe tbody tr th:only-of-type {\n",
       "        vertical-align: middle;\n",
       "    }\n",
       "\n",
       "    .dataframe tbody tr th {\n",
       "        vertical-align: top;\n",
       "    }\n",
       "\n",
       "    .dataframe thead th {\n",
       "        text-align: right;\n",
       "    }\n",
       "</style>\n",
       "<table border=\"1\" class=\"dataframe\">\n",
       "  <thead>\n",
       "    <tr style=\"text-align: right;\">\n",
       "      <th></th>\n",
       "      <th>destination</th>\n",
       "      <th>passanger</th>\n",
       "      <th>weather</th>\n",
       "      <th>temperature</th>\n",
       "      <th>time</th>\n",
       "      <th>coupon</th>\n",
       "      <th>expiration</th>\n",
       "      <th>gender</th>\n",
       "      <th>age</th>\n",
       "      <th>maritalStatus</th>\n",
       "      <th>...</th>\n",
       "      <th>CoffeeHouse</th>\n",
       "      <th>CarryAway</th>\n",
       "      <th>RestaurantLessThan20</th>\n",
       "      <th>Restaurant20To50</th>\n",
       "      <th>toCoupon_GEQ5min</th>\n",
       "      <th>toCoupon_GEQ15min</th>\n",
       "      <th>toCoupon_GEQ25min</th>\n",
       "      <th>direction_same</th>\n",
       "      <th>direction_opp</th>\n",
       "      <th>Y</th>\n",
       "    </tr>\n",
       "  </thead>\n",
       "  <tbody>\n",
       "    <tr>\n",
       "      <th>0</th>\n",
       "      <td>No Urgent Place</td>\n",
       "      <td>Alone</td>\n",
       "      <td>Sunny</td>\n",
       "      <td>55</td>\n",
       "      <td>2PM</td>\n",
       "      <td>Restaurant(&lt;20)</td>\n",
       "      <td>1d</td>\n",
       "      <td>Female</td>\n",
       "      <td>21</td>\n",
       "      <td>Unmarried partner</td>\n",
       "      <td>...</td>\n",
       "      <td>never</td>\n",
       "      <td>NaN</td>\n",
       "      <td>4~8</td>\n",
       "      <td>1~3</td>\n",
       "      <td>1</td>\n",
       "      <td>0</td>\n",
       "      <td>0</td>\n",
       "      <td>0</td>\n",
       "      <td>1</td>\n",
       "      <td>1</td>\n",
       "    </tr>\n",
       "    <tr>\n",
       "      <th>1</th>\n",
       "      <td>No Urgent Place</td>\n",
       "      <td>Friend(s)</td>\n",
       "      <td>Sunny</td>\n",
       "      <td>80</td>\n",
       "      <td>10AM</td>\n",
       "      <td>Coffee House</td>\n",
       "      <td>2h</td>\n",
       "      <td>Female</td>\n",
       "      <td>21</td>\n",
       "      <td>Unmarried partner</td>\n",
       "      <td>...</td>\n",
       "      <td>never</td>\n",
       "      <td>NaN</td>\n",
       "      <td>4~8</td>\n",
       "      <td>1~3</td>\n",
       "      <td>1</td>\n",
       "      <td>0</td>\n",
       "      <td>0</td>\n",
       "      <td>0</td>\n",
       "      <td>1</td>\n",
       "      <td>0</td>\n",
       "    </tr>\n",
       "    <tr>\n",
       "      <th>2</th>\n",
       "      <td>No Urgent Place</td>\n",
       "      <td>Friend(s)</td>\n",
       "      <td>Sunny</td>\n",
       "      <td>80</td>\n",
       "      <td>10AM</td>\n",
       "      <td>Carry out &amp; Take away</td>\n",
       "      <td>2h</td>\n",
       "      <td>Female</td>\n",
       "      <td>21</td>\n",
       "      <td>Unmarried partner</td>\n",
       "      <td>...</td>\n",
       "      <td>never</td>\n",
       "      <td>NaN</td>\n",
       "      <td>4~8</td>\n",
       "      <td>1~3</td>\n",
       "      <td>1</td>\n",
       "      <td>1</td>\n",
       "      <td>0</td>\n",
       "      <td>0</td>\n",
       "      <td>1</td>\n",
       "      <td>1</td>\n",
       "    </tr>\n",
       "    <tr>\n",
       "      <th>3</th>\n",
       "      <td>No Urgent Place</td>\n",
       "      <td>Friend(s)</td>\n",
       "      <td>Sunny</td>\n",
       "      <td>80</td>\n",
       "      <td>2PM</td>\n",
       "      <td>Coffee House</td>\n",
       "      <td>2h</td>\n",
       "      <td>Female</td>\n",
       "      <td>21</td>\n",
       "      <td>Unmarried partner</td>\n",
       "      <td>...</td>\n",
       "      <td>never</td>\n",
       "      <td>NaN</td>\n",
       "      <td>4~8</td>\n",
       "      <td>1~3</td>\n",
       "      <td>1</td>\n",
       "      <td>1</td>\n",
       "      <td>0</td>\n",
       "      <td>0</td>\n",
       "      <td>1</td>\n",
       "      <td>0</td>\n",
       "    </tr>\n",
       "    <tr>\n",
       "      <th>4</th>\n",
       "      <td>No Urgent Place</td>\n",
       "      <td>Friend(s)</td>\n",
       "      <td>Sunny</td>\n",
       "      <td>80</td>\n",
       "      <td>2PM</td>\n",
       "      <td>Coffee House</td>\n",
       "      <td>1d</td>\n",
       "      <td>Female</td>\n",
       "      <td>21</td>\n",
       "      <td>Unmarried partner</td>\n",
       "      <td>...</td>\n",
       "      <td>never</td>\n",
       "      <td>NaN</td>\n",
       "      <td>4~8</td>\n",
       "      <td>1~3</td>\n",
       "      <td>1</td>\n",
       "      <td>1</td>\n",
       "      <td>0</td>\n",
       "      <td>0</td>\n",
       "      <td>1</td>\n",
       "      <td>0</td>\n",
       "    </tr>\n",
       "  </tbody>\n",
       "</table>\n",
       "<p>5 rows × 26 columns</p>\n",
       "</div>"
      ],
      "text/plain": [
       "       destination  passanger weather  temperature  time  \\\n",
       "0  No Urgent Place      Alone   Sunny           55   2PM   \n",
       "1  No Urgent Place  Friend(s)   Sunny           80  10AM   \n",
       "2  No Urgent Place  Friend(s)   Sunny           80  10AM   \n",
       "3  No Urgent Place  Friend(s)   Sunny           80   2PM   \n",
       "4  No Urgent Place  Friend(s)   Sunny           80   2PM   \n",
       "\n",
       "                  coupon expiration  gender age      maritalStatus  ...  \\\n",
       "0        Restaurant(<20)         1d  Female  21  Unmarried partner  ...   \n",
       "1           Coffee House         2h  Female  21  Unmarried partner  ...   \n",
       "2  Carry out & Take away         2h  Female  21  Unmarried partner  ...   \n",
       "3           Coffee House         2h  Female  21  Unmarried partner  ...   \n",
       "4           Coffee House         1d  Female  21  Unmarried partner  ...   \n",
       "\n",
       "   CoffeeHouse CarryAway RestaurantLessThan20 Restaurant20To50  \\\n",
       "0        never       NaN                  4~8              1~3   \n",
       "1        never       NaN                  4~8              1~3   \n",
       "2        never       NaN                  4~8              1~3   \n",
       "3        never       NaN                  4~8              1~3   \n",
       "4        never       NaN                  4~8              1~3   \n",
       "\n",
       "  toCoupon_GEQ5min toCoupon_GEQ15min toCoupon_GEQ25min direction_same  \\\n",
       "0                1                 0                 0              0   \n",
       "1                1                 0                 0              0   \n",
       "2                1                 1                 0              0   \n",
       "3                1                 1                 0              0   \n",
       "4                1                 1                 0              0   \n",
       "\n",
       "  direction_opp  Y  \n",
       "0             1  1  \n",
       "1             1  0  \n",
       "2             1  1  \n",
       "3             1  0  \n",
       "4             1  0  \n",
       "\n",
       "[5 rows x 26 columns]"
      ]
     },
     "execution_count": 4,
     "metadata": {},
     "output_type": "execute_result"
    }
   ],
   "source": [
    "data.head()"
   ]
  },
  {
   "cell_type": "markdown",
   "metadata": {},
   "source": [
    "2. Investigate the dataset for missing or problematic data."
   ]
  },
  {
   "cell_type": "code",
   "execution_count": 5,
   "metadata": {},
   "outputs": [
    {
     "name": "stdout",
     "output_type": "stream",
     "text": [
      "<class 'pandas.core.frame.DataFrame'>\n",
      "RangeIndex: 12684 entries, 0 to 12683\n",
      "Data columns (total 26 columns):\n",
      " #   Column                Non-Null Count  Dtype \n",
      "---  ------                --------------  ----- \n",
      " 0   destination           12684 non-null  object\n",
      " 1   passanger             12684 non-null  object\n",
      " 2   weather               12684 non-null  object\n",
      " 3   temperature           12684 non-null  int64 \n",
      " 4   time                  12684 non-null  object\n",
      " 5   coupon                12684 non-null  object\n",
      " 6   expiration            12684 non-null  object\n",
      " 7   gender                12684 non-null  object\n",
      " 8   age                   12684 non-null  object\n",
      " 9   maritalStatus         12684 non-null  object\n",
      " 10  has_children          12684 non-null  int64 \n",
      " 11  education             12684 non-null  object\n",
      " 12  occupation            12684 non-null  object\n",
      " 13  income                12684 non-null  object\n",
      " 14  car                   108 non-null    object\n",
      " 15  Bar                   12577 non-null  object\n",
      " 16  CoffeeHouse           12467 non-null  object\n",
      " 17  CarryAway             12533 non-null  object\n",
      " 18  RestaurantLessThan20  12554 non-null  object\n",
      " 19  Restaurant20To50      12495 non-null  object\n",
      " 20  toCoupon_GEQ5min      12684 non-null  int64 \n",
      " 21  toCoupon_GEQ15min     12684 non-null  int64 \n",
      " 22  toCoupon_GEQ25min     12684 non-null  int64 \n",
      " 23  direction_same        12684 non-null  int64 \n",
      " 24  direction_opp         12684 non-null  int64 \n",
      " 25  Y                     12684 non-null  int64 \n",
      "dtypes: int64(8), object(18)\n",
      "memory usage: 2.5+ MB\n"
     ]
    }
   ],
   "source": [
    "data.info()"
   ]
  },
  {
   "cell_type": "code",
   "execution_count": 6,
   "metadata": {},
   "outputs": [
    {
     "data": {
      "text/plain": [
       "destination                 0\n",
       "passanger                   0\n",
       "weather                     0\n",
       "temperature                 0\n",
       "time                        0\n",
       "coupon                      0\n",
       "expiration                  0\n",
       "gender                      0\n",
       "age                         0\n",
       "maritalStatus               0\n",
       "has_children                0\n",
       "education                   0\n",
       "occupation                  0\n",
       "income                      0\n",
       "car                     12576\n",
       "Bar                       107\n",
       "CoffeeHouse               217\n",
       "CarryAway                 151\n",
       "RestaurantLessThan20      130\n",
       "Restaurant20To50          189\n",
       "toCoupon_GEQ5min            0\n",
       "toCoupon_GEQ15min           0\n",
       "toCoupon_GEQ25min           0\n",
       "direction_same              0\n",
       "direction_opp               0\n",
       "Y                           0\n",
       "dtype: int64"
      ]
     },
     "execution_count": 6,
     "metadata": {},
     "output_type": "execute_result"
    }
   ],
   "source": [
    "#use isnull and sum to determine which columns contain missing data from the data set \n",
    "data.isnull().sum()"
   ]
  },
  {
   "cell_type": "code",
   "execution_count": 7,
   "metadata": {},
   "outputs": [
    {
     "data": {
      "text/plain": [
       "car\n",
       "Car that is too old to install Onstar :D    21\n",
       "Mazda5                                      22\n",
       "Scooter and motorcycle                      22\n",
       "crossover                                   21\n",
       "do not drive                                22\n",
       "dtype: int64"
      ]
     },
     "execution_count": 7,
     "metadata": {},
     "output_type": "execute_result"
    }
   ],
   "source": [
    "#Analyze missing data by column to determine if the data is needed and valid using .notnull and .groupby\n",
    "car = data[data['car'].notnull()].groupby('car').size()\n",
    "car "
   ]
  },
  {
   "cell_type": "code",
   "execution_count": 8,
   "metadata": {},
   "outputs": [
    {
     "data": {
      "text/plain": [
       "Bar\n",
       "1~3      2473\n",
       "4~8      1076\n",
       "gt8       349\n",
       "less1    3482\n",
       "never    5197\n",
       "dtype: int64"
      ]
     },
     "execution_count": 8,
     "metadata": {},
     "output_type": "execute_result"
    }
   ],
   "source": [
    "bar = data[data['Bar'].notnull()].groupby('Bar').size()\n",
    "bar\n",
    "# Set missing Bar data to unknown so that we don't lose data\n",
    "# Set missing CoffeeHouse data to unknown\n",
    "# Set missing RestaurantLessThan20 to unknown\n",
    "# Set missing Restaurant20To50 to unknown "
   ]
  },
  {
   "cell_type": "code",
   "execution_count": 9,
   "metadata": {},
   "outputs": [
    {
     "data": {
      "text/html": [
       "<div>\n",
       "<style scoped>\n",
       "    .dataframe tbody tr th:only-of-type {\n",
       "        vertical-align: middle;\n",
       "    }\n",
       "\n",
       "    .dataframe tbody tr th {\n",
       "        vertical-align: top;\n",
       "    }\n",
       "\n",
       "    .dataframe thead th {\n",
       "        text-align: right;\n",
       "    }\n",
       "</style>\n",
       "<table border=\"1\" class=\"dataframe\">\n",
       "  <thead>\n",
       "    <tr style=\"text-align: right;\">\n",
       "      <th></th>\n",
       "      <th>destination</th>\n",
       "      <th>passanger</th>\n",
       "      <th>weather</th>\n",
       "      <th>temperature</th>\n",
       "      <th>time</th>\n",
       "      <th>coupon</th>\n",
       "      <th>expiration</th>\n",
       "      <th>gender</th>\n",
       "      <th>age</th>\n",
       "      <th>maritalStatus</th>\n",
       "      <th>...</th>\n",
       "      <th>CoffeeHouse</th>\n",
       "      <th>CarryAway</th>\n",
       "      <th>RestaurantLessThan20</th>\n",
       "      <th>Restaurant20To50</th>\n",
       "      <th>toCoupon_GEQ5min</th>\n",
       "      <th>toCoupon_GEQ15min</th>\n",
       "      <th>toCoupon_GEQ25min</th>\n",
       "      <th>direction_same</th>\n",
       "      <th>direction_opp</th>\n",
       "      <th>Y</th>\n",
       "    </tr>\n",
       "  </thead>\n",
       "  <tbody>\n",
       "    <tr>\n",
       "      <th>519</th>\n",
       "      <td>No Urgent Place</td>\n",
       "      <td>Friend(s)</td>\n",
       "      <td>Sunny</td>\n",
       "      <td>80</td>\n",
       "      <td>2PM</td>\n",
       "      <td>Restaurant(&lt;20)</td>\n",
       "      <td>1d</td>\n",
       "      <td>Male</td>\n",
       "      <td>50plus</td>\n",
       "      <td>Divorced</td>\n",
       "      <td>...</td>\n",
       "      <td>NaN</td>\n",
       "      <td>NaN</td>\n",
       "      <td>NaN</td>\n",
       "      <td>NaN</td>\n",
       "      <td>1</td>\n",
       "      <td>1</td>\n",
       "      <td>0</td>\n",
       "      <td>0</td>\n",
       "      <td>1</td>\n",
       "      <td>1</td>\n",
       "    </tr>\n",
       "    <tr>\n",
       "      <th>856</th>\n",
       "      <td>No Urgent Place</td>\n",
       "      <td>Partner</td>\n",
       "      <td>Sunny</td>\n",
       "      <td>80</td>\n",
       "      <td>6PM</td>\n",
       "      <td>Restaurant(&lt;20)</td>\n",
       "      <td>2h</td>\n",
       "      <td>Male</td>\n",
       "      <td>41</td>\n",
       "      <td>Married partner</td>\n",
       "      <td>...</td>\n",
       "      <td>NaN</td>\n",
       "      <td>NaN</td>\n",
       "      <td>NaN</td>\n",
       "      <td>NaN</td>\n",
       "      <td>1</td>\n",
       "      <td>0</td>\n",
       "      <td>0</td>\n",
       "      <td>0</td>\n",
       "      <td>1</td>\n",
       "      <td>1</td>\n",
       "    </tr>\n",
       "    <tr>\n",
       "      <th>902</th>\n",
       "      <td>No Urgent Place</td>\n",
       "      <td>Alone</td>\n",
       "      <td>Sunny</td>\n",
       "      <td>55</td>\n",
       "      <td>2PM</td>\n",
       "      <td>Restaurant(&lt;20)</td>\n",
       "      <td>1d</td>\n",
       "      <td>Female</td>\n",
       "      <td>31</td>\n",
       "      <td>Unmarried partner</td>\n",
       "      <td>...</td>\n",
       "      <td>never</td>\n",
       "      <td>4~8</td>\n",
       "      <td>NaN</td>\n",
       "      <td>never</td>\n",
       "      <td>1</td>\n",
       "      <td>0</td>\n",
       "      <td>0</td>\n",
       "      <td>0</td>\n",
       "      <td>1</td>\n",
       "      <td>1</td>\n",
       "    </tr>\n",
       "    <tr>\n",
       "      <th>907</th>\n",
       "      <td>No Urgent Place</td>\n",
       "      <td>Friend(s)</td>\n",
       "      <td>Sunny</td>\n",
       "      <td>80</td>\n",
       "      <td>6PM</td>\n",
       "      <td>Restaurant(&lt;20)</td>\n",
       "      <td>2h</td>\n",
       "      <td>Female</td>\n",
       "      <td>31</td>\n",
       "      <td>Unmarried partner</td>\n",
       "      <td>...</td>\n",
       "      <td>never</td>\n",
       "      <td>4~8</td>\n",
       "      <td>NaN</td>\n",
       "      <td>never</td>\n",
       "      <td>1</td>\n",
       "      <td>1</td>\n",
       "      <td>0</td>\n",
       "      <td>0</td>\n",
       "      <td>1</td>\n",
       "      <td>1</td>\n",
       "    </tr>\n",
       "    <tr>\n",
       "      <th>909</th>\n",
       "      <td>No Urgent Place</td>\n",
       "      <td>Kid(s)</td>\n",
       "      <td>Sunny</td>\n",
       "      <td>80</td>\n",
       "      <td>10AM</td>\n",
       "      <td>Restaurant(&lt;20)</td>\n",
       "      <td>2h</td>\n",
       "      <td>Female</td>\n",
       "      <td>31</td>\n",
       "      <td>Unmarried partner</td>\n",
       "      <td>...</td>\n",
       "      <td>never</td>\n",
       "      <td>4~8</td>\n",
       "      <td>NaN</td>\n",
       "      <td>never</td>\n",
       "      <td>1</td>\n",
       "      <td>1</td>\n",
       "      <td>0</td>\n",
       "      <td>0</td>\n",
       "      <td>1</td>\n",
       "      <td>1</td>\n",
       "    </tr>\n",
       "    <tr>\n",
       "      <th>912</th>\n",
       "      <td>No Urgent Place</td>\n",
       "      <td>Kid(s)</td>\n",
       "      <td>Sunny</td>\n",
       "      <td>80</td>\n",
       "      <td>2PM</td>\n",
       "      <td>Restaurant(&lt;20)</td>\n",
       "      <td>1d</td>\n",
       "      <td>Female</td>\n",
       "      <td>31</td>\n",
       "      <td>Unmarried partner</td>\n",
       "      <td>...</td>\n",
       "      <td>never</td>\n",
       "      <td>4~8</td>\n",
       "      <td>NaN</td>\n",
       "      <td>never</td>\n",
       "      <td>1</td>\n",
       "      <td>0</td>\n",
       "      <td>0</td>\n",
       "      <td>0</td>\n",
       "      <td>1</td>\n",
       "      <td>1</td>\n",
       "    </tr>\n",
       "    <tr>\n",
       "      <th>913</th>\n",
       "      <td>No Urgent Place</td>\n",
       "      <td>Kid(s)</td>\n",
       "      <td>Sunny</td>\n",
       "      <td>55</td>\n",
       "      <td>2PM</td>\n",
       "      <td>Restaurant(&lt;20)</td>\n",
       "      <td>1d</td>\n",
       "      <td>Female</td>\n",
       "      <td>31</td>\n",
       "      <td>Unmarried partner</td>\n",
       "      <td>...</td>\n",
       "      <td>never</td>\n",
       "      <td>4~8</td>\n",
       "      <td>NaN</td>\n",
       "      <td>never</td>\n",
       "      <td>1</td>\n",
       "      <td>1</td>\n",
       "      <td>0</td>\n",
       "      <td>0</td>\n",
       "      <td>1</td>\n",
       "      <td>1</td>\n",
       "    </tr>\n",
       "    <tr>\n",
       "      <th>922</th>\n",
       "      <td>Work</td>\n",
       "      <td>Alone</td>\n",
       "      <td>Sunny</td>\n",
       "      <td>55</td>\n",
       "      <td>7AM</td>\n",
       "      <td>Restaurant(&lt;20)</td>\n",
       "      <td>1d</td>\n",
       "      <td>Female</td>\n",
       "      <td>31</td>\n",
       "      <td>Unmarried partner</td>\n",
       "      <td>...</td>\n",
       "      <td>never</td>\n",
       "      <td>4~8</td>\n",
       "      <td>NaN</td>\n",
       "      <td>never</td>\n",
       "      <td>1</td>\n",
       "      <td>0</td>\n",
       "      <td>0</td>\n",
       "      <td>0</td>\n",
       "      <td>1</td>\n",
       "      <td>1</td>\n",
       "    </tr>\n",
       "    <tr>\n",
       "      <th>1170</th>\n",
       "      <td>No Urgent Place</td>\n",
       "      <td>Partner</td>\n",
       "      <td>Sunny</td>\n",
       "      <td>80</td>\n",
       "      <td>6PM</td>\n",
       "      <td>Restaurant(&lt;20)</td>\n",
       "      <td>2h</td>\n",
       "      <td>Male</td>\n",
       "      <td>26</td>\n",
       "      <td>Unmarried partner</td>\n",
       "      <td>...</td>\n",
       "      <td>NaN</td>\n",
       "      <td>NaN</td>\n",
       "      <td>NaN</td>\n",
       "      <td>NaN</td>\n",
       "      <td>1</td>\n",
       "      <td>0</td>\n",
       "      <td>0</td>\n",
       "      <td>0</td>\n",
       "      <td>1</td>\n",
       "      <td>1</td>\n",
       "    </tr>\n",
       "    <tr>\n",
       "      <th>2382</th>\n",
       "      <td>No Urgent Place</td>\n",
       "      <td>Friend(s)</td>\n",
       "      <td>Sunny</td>\n",
       "      <td>80</td>\n",
       "      <td>2PM</td>\n",
       "      <td>Restaurant(&lt;20)</td>\n",
       "      <td>1d</td>\n",
       "      <td>Male</td>\n",
       "      <td>26</td>\n",
       "      <td>Single</td>\n",
       "      <td>...</td>\n",
       "      <td>NaN</td>\n",
       "      <td>NaN</td>\n",
       "      <td>NaN</td>\n",
       "      <td>NaN</td>\n",
       "      <td>1</td>\n",
       "      <td>1</td>\n",
       "      <td>0</td>\n",
       "      <td>0</td>\n",
       "      <td>1</td>\n",
       "      <td>1</td>\n",
       "    </tr>\n",
       "    <tr>\n",
       "      <th>2866</th>\n",
       "      <td>No Urgent Place</td>\n",
       "      <td>Kid(s)</td>\n",
       "      <td>Sunny</td>\n",
       "      <td>80</td>\n",
       "      <td>10AM</td>\n",
       "      <td>Restaurant(&lt;20)</td>\n",
       "      <td>2h</td>\n",
       "      <td>Female</td>\n",
       "      <td>31</td>\n",
       "      <td>Married partner</td>\n",
       "      <td>...</td>\n",
       "      <td>NaN</td>\n",
       "      <td>NaN</td>\n",
       "      <td>NaN</td>\n",
       "      <td>NaN</td>\n",
       "      <td>1</td>\n",
       "      <td>1</td>\n",
       "      <td>0</td>\n",
       "      <td>0</td>\n",
       "      <td>1</td>\n",
       "      <td>1</td>\n",
       "    </tr>\n",
       "    <tr>\n",
       "      <th>2869</th>\n",
       "      <td>No Urgent Place</td>\n",
       "      <td>Kid(s)</td>\n",
       "      <td>Sunny</td>\n",
       "      <td>80</td>\n",
       "      <td>2PM</td>\n",
       "      <td>Restaurant(&lt;20)</td>\n",
       "      <td>1d</td>\n",
       "      <td>Female</td>\n",
       "      <td>31</td>\n",
       "      <td>Married partner</td>\n",
       "      <td>...</td>\n",
       "      <td>NaN</td>\n",
       "      <td>NaN</td>\n",
       "      <td>NaN</td>\n",
       "      <td>NaN</td>\n",
       "      <td>1</td>\n",
       "      <td>0</td>\n",
       "      <td>0</td>\n",
       "      <td>0</td>\n",
       "      <td>1</td>\n",
       "      <td>1</td>\n",
       "    </tr>\n",
       "    <tr>\n",
       "      <th>2870</th>\n",
       "      <td>No Urgent Place</td>\n",
       "      <td>Kid(s)</td>\n",
       "      <td>Sunny</td>\n",
       "      <td>55</td>\n",
       "      <td>2PM</td>\n",
       "      <td>Restaurant(&lt;20)</td>\n",
       "      <td>1d</td>\n",
       "      <td>Female</td>\n",
       "      <td>31</td>\n",
       "      <td>Married partner</td>\n",
       "      <td>...</td>\n",
       "      <td>NaN</td>\n",
       "      <td>NaN</td>\n",
       "      <td>NaN</td>\n",
       "      <td>NaN</td>\n",
       "      <td>1</td>\n",
       "      <td>1</td>\n",
       "      <td>0</td>\n",
       "      <td>0</td>\n",
       "      <td>1</td>\n",
       "      <td>1</td>\n",
       "    </tr>\n",
       "    <tr>\n",
       "      <th>3139</th>\n",
       "      <td>No Urgent Place</td>\n",
       "      <td>Friend(s)</td>\n",
       "      <td>Sunny</td>\n",
       "      <td>80</td>\n",
       "      <td>2PM</td>\n",
       "      <td>Restaurant(&lt;20)</td>\n",
       "      <td>1d</td>\n",
       "      <td>Male</td>\n",
       "      <td>21</td>\n",
       "      <td>Single</td>\n",
       "      <td>...</td>\n",
       "      <td>NaN</td>\n",
       "      <td>NaN</td>\n",
       "      <td>NaN</td>\n",
       "      <td>NaN</td>\n",
       "      <td>1</td>\n",
       "      <td>1</td>\n",
       "      <td>0</td>\n",
       "      <td>0</td>\n",
       "      <td>1</td>\n",
       "      <td>1</td>\n",
       "    </tr>\n",
       "    <tr>\n",
       "      <th>3356</th>\n",
       "      <td>No Urgent Place</td>\n",
       "      <td>Friend(s)</td>\n",
       "      <td>Sunny</td>\n",
       "      <td>80</td>\n",
       "      <td>2PM</td>\n",
       "      <td>Restaurant(&lt;20)</td>\n",
       "      <td>1d</td>\n",
       "      <td>Male</td>\n",
       "      <td>50plus</td>\n",
       "      <td>Divorced</td>\n",
       "      <td>...</td>\n",
       "      <td>NaN</td>\n",
       "      <td>NaN</td>\n",
       "      <td>NaN</td>\n",
       "      <td>NaN</td>\n",
       "      <td>1</td>\n",
       "      <td>1</td>\n",
       "      <td>0</td>\n",
       "      <td>0</td>\n",
       "      <td>1</td>\n",
       "      <td>1</td>\n",
       "    </tr>\n",
       "    <tr>\n",
       "      <th>3514</th>\n",
       "      <td>No Urgent Place</td>\n",
       "      <td>Alone</td>\n",
       "      <td>Sunny</td>\n",
       "      <td>55</td>\n",
       "      <td>2PM</td>\n",
       "      <td>Restaurant(&lt;20)</td>\n",
       "      <td>1d</td>\n",
       "      <td>Female</td>\n",
       "      <td>21</td>\n",
       "      <td>Unmarried partner</td>\n",
       "      <td>...</td>\n",
       "      <td>4~8</td>\n",
       "      <td>1~3</td>\n",
       "      <td>NaN</td>\n",
       "      <td>less1</td>\n",
       "      <td>1</td>\n",
       "      <td>0</td>\n",
       "      <td>0</td>\n",
       "      <td>0</td>\n",
       "      <td>1</td>\n",
       "      <td>1</td>\n",
       "    </tr>\n",
       "    <tr>\n",
       "      <th>3519</th>\n",
       "      <td>No Urgent Place</td>\n",
       "      <td>Friend(s)</td>\n",
       "      <td>Sunny</td>\n",
       "      <td>80</td>\n",
       "      <td>6PM</td>\n",
       "      <td>Restaurant(&lt;20)</td>\n",
       "      <td>2h</td>\n",
       "      <td>Female</td>\n",
       "      <td>21</td>\n",
       "      <td>Unmarried partner</td>\n",
       "      <td>...</td>\n",
       "      <td>4~8</td>\n",
       "      <td>1~3</td>\n",
       "      <td>NaN</td>\n",
       "      <td>less1</td>\n",
       "      <td>1</td>\n",
       "      <td>1</td>\n",
       "      <td>0</td>\n",
       "      <td>0</td>\n",
       "      <td>1</td>\n",
       "      <td>1</td>\n",
       "    </tr>\n",
       "    <tr>\n",
       "      <th>3525</th>\n",
       "      <td>No Urgent Place</td>\n",
       "      <td>Partner</td>\n",
       "      <td>Sunny</td>\n",
       "      <td>80</td>\n",
       "      <td>6PM</td>\n",
       "      <td>Restaurant(&lt;20)</td>\n",
       "      <td>2h</td>\n",
       "      <td>Female</td>\n",
       "      <td>21</td>\n",
       "      <td>Unmarried partner</td>\n",
       "      <td>...</td>\n",
       "      <td>4~8</td>\n",
       "      <td>1~3</td>\n",
       "      <td>NaN</td>\n",
       "      <td>less1</td>\n",
       "      <td>1</td>\n",
       "      <td>0</td>\n",
       "      <td>0</td>\n",
       "      <td>0</td>\n",
       "      <td>1</td>\n",
       "      <td>1</td>\n",
       "    </tr>\n",
       "    <tr>\n",
       "      <th>3534</th>\n",
       "      <td>Work</td>\n",
       "      <td>Alone</td>\n",
       "      <td>Sunny</td>\n",
       "      <td>55</td>\n",
       "      <td>7AM</td>\n",
       "      <td>Restaurant(&lt;20)</td>\n",
       "      <td>1d</td>\n",
       "      <td>Female</td>\n",
       "      <td>21</td>\n",
       "      <td>Unmarried partner</td>\n",
       "      <td>...</td>\n",
       "      <td>4~8</td>\n",
       "      <td>1~3</td>\n",
       "      <td>NaN</td>\n",
       "      <td>less1</td>\n",
       "      <td>1</td>\n",
       "      <td>0</td>\n",
       "      <td>0</td>\n",
       "      <td>0</td>\n",
       "      <td>1</td>\n",
       "      <td>0</td>\n",
       "    </tr>\n",
       "    <tr>\n",
       "      <th>5655</th>\n",
       "      <td>No Urgent Place</td>\n",
       "      <td>Friend(s)</td>\n",
       "      <td>Sunny</td>\n",
       "      <td>80</td>\n",
       "      <td>2PM</td>\n",
       "      <td>Restaurant(&lt;20)</td>\n",
       "      <td>2h</td>\n",
       "      <td>Female</td>\n",
       "      <td>31</td>\n",
       "      <td>Single</td>\n",
       "      <td>...</td>\n",
       "      <td>less1</td>\n",
       "      <td>4~8</td>\n",
       "      <td>NaN</td>\n",
       "      <td>less1</td>\n",
       "      <td>1</td>\n",
       "      <td>1</td>\n",
       "      <td>0</td>\n",
       "      <td>0</td>\n",
       "      <td>1</td>\n",
       "      <td>0</td>\n",
       "    </tr>\n",
       "    <tr>\n",
       "      <th>5656</th>\n",
       "      <td>No Urgent Place</td>\n",
       "      <td>Friend(s)</td>\n",
       "      <td>Sunny</td>\n",
       "      <td>80</td>\n",
       "      <td>6PM</td>\n",
       "      <td>Restaurant(&lt;20)</td>\n",
       "      <td>1d</td>\n",
       "      <td>Female</td>\n",
       "      <td>31</td>\n",
       "      <td>Single</td>\n",
       "      <td>...</td>\n",
       "      <td>less1</td>\n",
       "      <td>4~8</td>\n",
       "      <td>NaN</td>\n",
       "      <td>less1</td>\n",
       "      <td>1</td>\n",
       "      <td>1</td>\n",
       "      <td>0</td>\n",
       "      <td>0</td>\n",
       "      <td>1</td>\n",
       "      <td>1</td>\n",
       "    </tr>\n",
       "    <tr>\n",
       "      <th>5658</th>\n",
       "      <td>No Urgent Place</td>\n",
       "      <td>Alone</td>\n",
       "      <td>Sunny</td>\n",
       "      <td>80</td>\n",
       "      <td>2PM</td>\n",
       "      <td>Restaurant(&lt;20)</td>\n",
       "      <td>2h</td>\n",
       "      <td>Female</td>\n",
       "      <td>31</td>\n",
       "      <td>Single</td>\n",
       "      <td>...</td>\n",
       "      <td>less1</td>\n",
       "      <td>4~8</td>\n",
       "      <td>NaN</td>\n",
       "      <td>less1</td>\n",
       "      <td>1</td>\n",
       "      <td>1</td>\n",
       "      <td>0</td>\n",
       "      <td>0</td>\n",
       "      <td>1</td>\n",
       "      <td>1</td>\n",
       "    </tr>\n",
       "    <tr>\n",
       "      <th>5663</th>\n",
       "      <td>Home</td>\n",
       "      <td>Alone</td>\n",
       "      <td>Sunny</td>\n",
       "      <td>80</td>\n",
       "      <td>6PM</td>\n",
       "      <td>Restaurant(&lt;20)</td>\n",
       "      <td>2h</td>\n",
       "      <td>Female</td>\n",
       "      <td>31</td>\n",
       "      <td>Single</td>\n",
       "      <td>...</td>\n",
       "      <td>less1</td>\n",
       "      <td>4~8</td>\n",
       "      <td>NaN</td>\n",
       "      <td>less1</td>\n",
       "      <td>1</td>\n",
       "      <td>0</td>\n",
       "      <td>0</td>\n",
       "      <td>1</td>\n",
       "      <td>0</td>\n",
       "      <td>1</td>\n",
       "    </tr>\n",
       "    <tr>\n",
       "      <th>5665</th>\n",
       "      <td>Home</td>\n",
       "      <td>Alone</td>\n",
       "      <td>Sunny</td>\n",
       "      <td>80</td>\n",
       "      <td>10PM</td>\n",
       "      <td>Restaurant(&lt;20)</td>\n",
       "      <td>2h</td>\n",
       "      <td>Female</td>\n",
       "      <td>31</td>\n",
       "      <td>Single</td>\n",
       "      <td>...</td>\n",
       "      <td>less1</td>\n",
       "      <td>4~8</td>\n",
       "      <td>NaN</td>\n",
       "      <td>less1</td>\n",
       "      <td>1</td>\n",
       "      <td>0</td>\n",
       "      <td>0</td>\n",
       "      <td>1</td>\n",
       "      <td>0</td>\n",
       "      <td>0</td>\n",
       "    </tr>\n",
       "    <tr>\n",
       "      <th>8961</th>\n",
       "      <td>No Urgent Place</td>\n",
       "      <td>Alone</td>\n",
       "      <td>Sunny</td>\n",
       "      <td>80</td>\n",
       "      <td>10PM</td>\n",
       "      <td>Restaurant(&lt;20)</td>\n",
       "      <td>1d</td>\n",
       "      <td>Female</td>\n",
       "      <td>21</td>\n",
       "      <td>Unmarried partner</td>\n",
       "      <td>...</td>\n",
       "      <td>1~3</td>\n",
       "      <td>4~8</td>\n",
       "      <td>NaN</td>\n",
       "      <td>4~8</td>\n",
       "      <td>1</td>\n",
       "      <td>0</td>\n",
       "      <td>0</td>\n",
       "      <td>0</td>\n",
       "      <td>1</td>\n",
       "      <td>1</td>\n",
       "    </tr>\n",
       "    <tr>\n",
       "      <th>8969</th>\n",
       "      <td>Home</td>\n",
       "      <td>Alone</td>\n",
       "      <td>Sunny</td>\n",
       "      <td>80</td>\n",
       "      <td>6PM</td>\n",
       "      <td>Restaurant(&lt;20)</td>\n",
       "      <td>1d</td>\n",
       "      <td>Female</td>\n",
       "      <td>21</td>\n",
       "      <td>Unmarried partner</td>\n",
       "      <td>...</td>\n",
       "      <td>1~3</td>\n",
       "      <td>4~8</td>\n",
       "      <td>NaN</td>\n",
       "      <td>4~8</td>\n",
       "      <td>1</td>\n",
       "      <td>0</td>\n",
       "      <td>0</td>\n",
       "      <td>1</td>\n",
       "      <td>0</td>\n",
       "      <td>1</td>\n",
       "    </tr>\n",
       "    <tr>\n",
       "      <th>8971</th>\n",
       "      <td>Home</td>\n",
       "      <td>Alone</td>\n",
       "      <td>Snowy</td>\n",
       "      <td>30</td>\n",
       "      <td>10PM</td>\n",
       "      <td>Restaurant(&lt;20)</td>\n",
       "      <td>2h</td>\n",
       "      <td>Female</td>\n",
       "      <td>21</td>\n",
       "      <td>Unmarried partner</td>\n",
       "      <td>...</td>\n",
       "      <td>1~3</td>\n",
       "      <td>4~8</td>\n",
       "      <td>NaN</td>\n",
       "      <td>4~8</td>\n",
       "      <td>1</td>\n",
       "      <td>1</td>\n",
       "      <td>1</td>\n",
       "      <td>0</td>\n",
       "      <td>1</td>\n",
       "      <td>1</td>\n",
       "    </tr>\n",
       "  </tbody>\n",
       "</table>\n",
       "<p>27 rows × 26 columns</p>\n",
       "</div>"
      ],
      "text/plain": [
       "          destination  passanger weather  temperature  time           coupon  \\\n",
       "519   No Urgent Place  Friend(s)   Sunny           80   2PM  Restaurant(<20)   \n",
       "856   No Urgent Place    Partner   Sunny           80   6PM  Restaurant(<20)   \n",
       "902   No Urgent Place      Alone   Sunny           55   2PM  Restaurant(<20)   \n",
       "907   No Urgent Place  Friend(s)   Sunny           80   6PM  Restaurant(<20)   \n",
       "909   No Urgent Place     Kid(s)   Sunny           80  10AM  Restaurant(<20)   \n",
       "912   No Urgent Place     Kid(s)   Sunny           80   2PM  Restaurant(<20)   \n",
       "913   No Urgent Place     Kid(s)   Sunny           55   2PM  Restaurant(<20)   \n",
       "922              Work      Alone   Sunny           55   7AM  Restaurant(<20)   \n",
       "1170  No Urgent Place    Partner   Sunny           80   6PM  Restaurant(<20)   \n",
       "2382  No Urgent Place  Friend(s)   Sunny           80   2PM  Restaurant(<20)   \n",
       "2866  No Urgent Place     Kid(s)   Sunny           80  10AM  Restaurant(<20)   \n",
       "2869  No Urgent Place     Kid(s)   Sunny           80   2PM  Restaurant(<20)   \n",
       "2870  No Urgent Place     Kid(s)   Sunny           55   2PM  Restaurant(<20)   \n",
       "3139  No Urgent Place  Friend(s)   Sunny           80   2PM  Restaurant(<20)   \n",
       "3356  No Urgent Place  Friend(s)   Sunny           80   2PM  Restaurant(<20)   \n",
       "3514  No Urgent Place      Alone   Sunny           55   2PM  Restaurant(<20)   \n",
       "3519  No Urgent Place  Friend(s)   Sunny           80   6PM  Restaurant(<20)   \n",
       "3525  No Urgent Place    Partner   Sunny           80   6PM  Restaurant(<20)   \n",
       "3534             Work      Alone   Sunny           55   7AM  Restaurant(<20)   \n",
       "5655  No Urgent Place  Friend(s)   Sunny           80   2PM  Restaurant(<20)   \n",
       "5656  No Urgent Place  Friend(s)   Sunny           80   6PM  Restaurant(<20)   \n",
       "5658  No Urgent Place      Alone   Sunny           80   2PM  Restaurant(<20)   \n",
       "5663             Home      Alone   Sunny           80   6PM  Restaurant(<20)   \n",
       "5665             Home      Alone   Sunny           80  10PM  Restaurant(<20)   \n",
       "8961  No Urgent Place      Alone   Sunny           80  10PM  Restaurant(<20)   \n",
       "8969             Home      Alone   Sunny           80   6PM  Restaurant(<20)   \n",
       "8971             Home      Alone   Snowy           30  10PM  Restaurant(<20)   \n",
       "\n",
       "     expiration  gender     age      maritalStatus  ...  CoffeeHouse  \\\n",
       "519          1d    Male  50plus           Divorced  ...          NaN   \n",
       "856          2h    Male      41    Married partner  ...          NaN   \n",
       "902          1d  Female      31  Unmarried partner  ...        never   \n",
       "907          2h  Female      31  Unmarried partner  ...        never   \n",
       "909          2h  Female      31  Unmarried partner  ...        never   \n",
       "912          1d  Female      31  Unmarried partner  ...        never   \n",
       "913          1d  Female      31  Unmarried partner  ...        never   \n",
       "922          1d  Female      31  Unmarried partner  ...        never   \n",
       "1170         2h    Male      26  Unmarried partner  ...          NaN   \n",
       "2382         1d    Male      26             Single  ...          NaN   \n",
       "2866         2h  Female      31    Married partner  ...          NaN   \n",
       "2869         1d  Female      31    Married partner  ...          NaN   \n",
       "2870         1d  Female      31    Married partner  ...          NaN   \n",
       "3139         1d    Male      21             Single  ...          NaN   \n",
       "3356         1d    Male  50plus           Divorced  ...          NaN   \n",
       "3514         1d  Female      21  Unmarried partner  ...          4~8   \n",
       "3519         2h  Female      21  Unmarried partner  ...          4~8   \n",
       "3525         2h  Female      21  Unmarried partner  ...          4~8   \n",
       "3534         1d  Female      21  Unmarried partner  ...          4~8   \n",
       "5655         2h  Female      31             Single  ...        less1   \n",
       "5656         1d  Female      31             Single  ...        less1   \n",
       "5658         2h  Female      31             Single  ...        less1   \n",
       "5663         2h  Female      31             Single  ...        less1   \n",
       "5665         2h  Female      31             Single  ...        less1   \n",
       "8961         1d  Female      21  Unmarried partner  ...          1~3   \n",
       "8969         1d  Female      21  Unmarried partner  ...          1~3   \n",
       "8971         2h  Female      21  Unmarried partner  ...          1~3   \n",
       "\n",
       "     CarryAway RestaurantLessThan20 Restaurant20To50 toCoupon_GEQ5min  \\\n",
       "519        NaN                  NaN              NaN                1   \n",
       "856        NaN                  NaN              NaN                1   \n",
       "902        4~8                  NaN            never                1   \n",
       "907        4~8                  NaN            never                1   \n",
       "909        4~8                  NaN            never                1   \n",
       "912        4~8                  NaN            never                1   \n",
       "913        4~8                  NaN            never                1   \n",
       "922        4~8                  NaN            never                1   \n",
       "1170       NaN                  NaN              NaN                1   \n",
       "2382       NaN                  NaN              NaN                1   \n",
       "2866       NaN                  NaN              NaN                1   \n",
       "2869       NaN                  NaN              NaN                1   \n",
       "2870       NaN                  NaN              NaN                1   \n",
       "3139       NaN                  NaN              NaN                1   \n",
       "3356       NaN                  NaN              NaN                1   \n",
       "3514       1~3                  NaN            less1                1   \n",
       "3519       1~3                  NaN            less1                1   \n",
       "3525       1~3                  NaN            less1                1   \n",
       "3534       1~3                  NaN            less1                1   \n",
       "5655       4~8                  NaN            less1                1   \n",
       "5656       4~8                  NaN            less1                1   \n",
       "5658       4~8                  NaN            less1                1   \n",
       "5663       4~8                  NaN            less1                1   \n",
       "5665       4~8                  NaN            less1                1   \n",
       "8961       4~8                  NaN              4~8                1   \n",
       "8969       4~8                  NaN              4~8                1   \n",
       "8971       4~8                  NaN              4~8                1   \n",
       "\n",
       "     toCoupon_GEQ15min toCoupon_GEQ25min direction_same direction_opp  Y  \n",
       "519                  1                 0              0             1  1  \n",
       "856                  0                 0              0             1  1  \n",
       "902                  0                 0              0             1  1  \n",
       "907                  1                 0              0             1  1  \n",
       "909                  1                 0              0             1  1  \n",
       "912                  0                 0              0             1  1  \n",
       "913                  1                 0              0             1  1  \n",
       "922                  0                 0              0             1  1  \n",
       "1170                 0                 0              0             1  1  \n",
       "2382                 1                 0              0             1  1  \n",
       "2866                 1                 0              0             1  1  \n",
       "2869                 0                 0              0             1  1  \n",
       "2870                 1                 0              0             1  1  \n",
       "3139                 1                 0              0             1  1  \n",
       "3356                 1                 0              0             1  1  \n",
       "3514                 0                 0              0             1  1  \n",
       "3519                 1                 0              0             1  1  \n",
       "3525                 0                 0              0             1  1  \n",
       "3534                 0                 0              0             1  0  \n",
       "5655                 1                 0              0             1  0  \n",
       "5656                 1                 0              0             1  1  \n",
       "5658                 1                 0              0             1  1  \n",
       "5663                 0                 0              1             0  1  \n",
       "5665                 0                 0              1             0  0  \n",
       "8961                 0                 0              0             1  1  \n",
       "8969                 0                 0              1             0  1  \n",
       "8971                 1                 1              0             1  1  \n",
       "\n",
       "[27 rows x 26 columns]"
      ]
     },
     "execution_count": 9,
     "metadata": {},
     "output_type": "execute_result"
    }
   ],
   "source": [
    "RestaurantLessThan20 = data[data['RestaurantLessThan20'].isnull()].query(\"coupon=='Restaurant(<20)'\")\n",
    "RestaurantLessThan20"
   ]
  },
  {
   "cell_type": "markdown",
   "metadata": {},
   "source": [
    "3. Decide what to do about your missing data -- drop, replace, other..."
   ]
  },
  {
   "cell_type": "code",
   "execution_count": 10,
   "metadata": {},
   "outputs": [
    {
     "data": {
      "text/html": [
       "<div>\n",
       "<style scoped>\n",
       "    .dataframe tbody tr th:only-of-type {\n",
       "        vertical-align: middle;\n",
       "    }\n",
       "\n",
       "    .dataframe tbody tr th {\n",
       "        vertical-align: top;\n",
       "    }\n",
       "\n",
       "    .dataframe thead th {\n",
       "        text-align: right;\n",
       "    }\n",
       "</style>\n",
       "<table border=\"1\" class=\"dataframe\">\n",
       "  <thead>\n",
       "    <tr style=\"text-align: right;\">\n",
       "      <th></th>\n",
       "      <th>destination</th>\n",
       "      <th>passanger</th>\n",
       "      <th>weather</th>\n",
       "      <th>temperature</th>\n",
       "      <th>time</th>\n",
       "      <th>coupon</th>\n",
       "      <th>expiration</th>\n",
       "      <th>gender</th>\n",
       "      <th>age</th>\n",
       "      <th>maritalStatus</th>\n",
       "      <th>...</th>\n",
       "      <th>CoffeeHouse</th>\n",
       "      <th>CarryAway</th>\n",
       "      <th>RestaurantLessThan20</th>\n",
       "      <th>Restaurant20To50</th>\n",
       "      <th>toCoupon_GEQ5min</th>\n",
       "      <th>toCoupon_GEQ15min</th>\n",
       "      <th>toCoupon_GEQ25min</th>\n",
       "      <th>direction_same</th>\n",
       "      <th>direction_opp</th>\n",
       "      <th>Y</th>\n",
       "    </tr>\n",
       "  </thead>\n",
       "  <tbody>\n",
       "    <tr>\n",
       "      <th>0</th>\n",
       "      <td>No Urgent Place</td>\n",
       "      <td>Alone</td>\n",
       "      <td>Sunny</td>\n",
       "      <td>55</td>\n",
       "      <td>2PM</td>\n",
       "      <td>Restaurant(&lt;20)</td>\n",
       "      <td>1d</td>\n",
       "      <td>Female</td>\n",
       "      <td>21</td>\n",
       "      <td>Unmarried partner</td>\n",
       "      <td>...</td>\n",
       "      <td>never</td>\n",
       "      <td>NaN</td>\n",
       "      <td>4~8</td>\n",
       "      <td>1~3</td>\n",
       "      <td>1</td>\n",
       "      <td>0</td>\n",
       "      <td>0</td>\n",
       "      <td>0</td>\n",
       "      <td>1</td>\n",
       "      <td>1</td>\n",
       "    </tr>\n",
       "    <tr>\n",
       "      <th>1</th>\n",
       "      <td>No Urgent Place</td>\n",
       "      <td>Friend(s)</td>\n",
       "      <td>Sunny</td>\n",
       "      <td>80</td>\n",
       "      <td>10AM</td>\n",
       "      <td>Coffee House</td>\n",
       "      <td>2h</td>\n",
       "      <td>Female</td>\n",
       "      <td>21</td>\n",
       "      <td>Unmarried partner</td>\n",
       "      <td>...</td>\n",
       "      <td>never</td>\n",
       "      <td>NaN</td>\n",
       "      <td>4~8</td>\n",
       "      <td>1~3</td>\n",
       "      <td>1</td>\n",
       "      <td>0</td>\n",
       "      <td>0</td>\n",
       "      <td>0</td>\n",
       "      <td>1</td>\n",
       "      <td>0</td>\n",
       "    </tr>\n",
       "    <tr>\n",
       "      <th>2</th>\n",
       "      <td>No Urgent Place</td>\n",
       "      <td>Friend(s)</td>\n",
       "      <td>Sunny</td>\n",
       "      <td>80</td>\n",
       "      <td>10AM</td>\n",
       "      <td>Carry out &amp; Take away</td>\n",
       "      <td>2h</td>\n",
       "      <td>Female</td>\n",
       "      <td>21</td>\n",
       "      <td>Unmarried partner</td>\n",
       "      <td>...</td>\n",
       "      <td>never</td>\n",
       "      <td>NaN</td>\n",
       "      <td>4~8</td>\n",
       "      <td>1~3</td>\n",
       "      <td>1</td>\n",
       "      <td>1</td>\n",
       "      <td>0</td>\n",
       "      <td>0</td>\n",
       "      <td>1</td>\n",
       "      <td>1</td>\n",
       "    </tr>\n",
       "    <tr>\n",
       "      <th>3</th>\n",
       "      <td>No Urgent Place</td>\n",
       "      <td>Friend(s)</td>\n",
       "      <td>Sunny</td>\n",
       "      <td>80</td>\n",
       "      <td>2PM</td>\n",
       "      <td>Coffee House</td>\n",
       "      <td>2h</td>\n",
       "      <td>Female</td>\n",
       "      <td>21</td>\n",
       "      <td>Unmarried partner</td>\n",
       "      <td>...</td>\n",
       "      <td>never</td>\n",
       "      <td>NaN</td>\n",
       "      <td>4~8</td>\n",
       "      <td>1~3</td>\n",
       "      <td>1</td>\n",
       "      <td>1</td>\n",
       "      <td>0</td>\n",
       "      <td>0</td>\n",
       "      <td>1</td>\n",
       "      <td>0</td>\n",
       "    </tr>\n",
       "    <tr>\n",
       "      <th>4</th>\n",
       "      <td>No Urgent Place</td>\n",
       "      <td>Friend(s)</td>\n",
       "      <td>Sunny</td>\n",
       "      <td>80</td>\n",
       "      <td>2PM</td>\n",
       "      <td>Coffee House</td>\n",
       "      <td>1d</td>\n",
       "      <td>Female</td>\n",
       "      <td>21</td>\n",
       "      <td>Unmarried partner</td>\n",
       "      <td>...</td>\n",
       "      <td>never</td>\n",
       "      <td>NaN</td>\n",
       "      <td>4~8</td>\n",
       "      <td>1~3</td>\n",
       "      <td>1</td>\n",
       "      <td>1</td>\n",
       "      <td>0</td>\n",
       "      <td>0</td>\n",
       "      <td>1</td>\n",
       "      <td>0</td>\n",
       "    </tr>\n",
       "    <tr>\n",
       "      <th>...</th>\n",
       "      <td>...</td>\n",
       "      <td>...</td>\n",
       "      <td>...</td>\n",
       "      <td>...</td>\n",
       "      <td>...</td>\n",
       "      <td>...</td>\n",
       "      <td>...</td>\n",
       "      <td>...</td>\n",
       "      <td>...</td>\n",
       "      <td>...</td>\n",
       "      <td>...</td>\n",
       "      <td>...</td>\n",
       "      <td>...</td>\n",
       "      <td>...</td>\n",
       "      <td>...</td>\n",
       "      <td>...</td>\n",
       "      <td>...</td>\n",
       "      <td>...</td>\n",
       "      <td>...</td>\n",
       "      <td>...</td>\n",
       "      <td>...</td>\n",
       "    </tr>\n",
       "    <tr>\n",
       "      <th>12679</th>\n",
       "      <td>Home</td>\n",
       "      <td>Partner</td>\n",
       "      <td>Rainy</td>\n",
       "      <td>55</td>\n",
       "      <td>6PM</td>\n",
       "      <td>Carry out &amp; Take away</td>\n",
       "      <td>1d</td>\n",
       "      <td>Male</td>\n",
       "      <td>26</td>\n",
       "      <td>Single</td>\n",
       "      <td>...</td>\n",
       "      <td>never</td>\n",
       "      <td>1~3</td>\n",
       "      <td>4~8</td>\n",
       "      <td>1~3</td>\n",
       "      <td>1</td>\n",
       "      <td>0</td>\n",
       "      <td>0</td>\n",
       "      <td>1</td>\n",
       "      <td>0</td>\n",
       "      <td>1</td>\n",
       "    </tr>\n",
       "    <tr>\n",
       "      <th>12680</th>\n",
       "      <td>Work</td>\n",
       "      <td>Alone</td>\n",
       "      <td>Rainy</td>\n",
       "      <td>55</td>\n",
       "      <td>7AM</td>\n",
       "      <td>Carry out &amp; Take away</td>\n",
       "      <td>1d</td>\n",
       "      <td>Male</td>\n",
       "      <td>26</td>\n",
       "      <td>Single</td>\n",
       "      <td>...</td>\n",
       "      <td>never</td>\n",
       "      <td>1~3</td>\n",
       "      <td>4~8</td>\n",
       "      <td>1~3</td>\n",
       "      <td>1</td>\n",
       "      <td>0</td>\n",
       "      <td>0</td>\n",
       "      <td>0</td>\n",
       "      <td>1</td>\n",
       "      <td>1</td>\n",
       "    </tr>\n",
       "    <tr>\n",
       "      <th>12681</th>\n",
       "      <td>Work</td>\n",
       "      <td>Alone</td>\n",
       "      <td>Snowy</td>\n",
       "      <td>30</td>\n",
       "      <td>7AM</td>\n",
       "      <td>Coffee House</td>\n",
       "      <td>1d</td>\n",
       "      <td>Male</td>\n",
       "      <td>26</td>\n",
       "      <td>Single</td>\n",
       "      <td>...</td>\n",
       "      <td>never</td>\n",
       "      <td>1~3</td>\n",
       "      <td>4~8</td>\n",
       "      <td>1~3</td>\n",
       "      <td>1</td>\n",
       "      <td>0</td>\n",
       "      <td>0</td>\n",
       "      <td>1</td>\n",
       "      <td>0</td>\n",
       "      <td>0</td>\n",
       "    </tr>\n",
       "    <tr>\n",
       "      <th>12682</th>\n",
       "      <td>Work</td>\n",
       "      <td>Alone</td>\n",
       "      <td>Snowy</td>\n",
       "      <td>30</td>\n",
       "      <td>7AM</td>\n",
       "      <td>Bar</td>\n",
       "      <td>1d</td>\n",
       "      <td>Male</td>\n",
       "      <td>26</td>\n",
       "      <td>Single</td>\n",
       "      <td>...</td>\n",
       "      <td>never</td>\n",
       "      <td>1~3</td>\n",
       "      <td>4~8</td>\n",
       "      <td>1~3</td>\n",
       "      <td>1</td>\n",
       "      <td>1</td>\n",
       "      <td>1</td>\n",
       "      <td>0</td>\n",
       "      <td>1</td>\n",
       "      <td>0</td>\n",
       "    </tr>\n",
       "    <tr>\n",
       "      <th>12683</th>\n",
       "      <td>Work</td>\n",
       "      <td>Alone</td>\n",
       "      <td>Sunny</td>\n",
       "      <td>80</td>\n",
       "      <td>7AM</td>\n",
       "      <td>Restaurant(20-50)</td>\n",
       "      <td>2h</td>\n",
       "      <td>Male</td>\n",
       "      <td>26</td>\n",
       "      <td>Single</td>\n",
       "      <td>...</td>\n",
       "      <td>never</td>\n",
       "      <td>1~3</td>\n",
       "      <td>4~8</td>\n",
       "      <td>1~3</td>\n",
       "      <td>1</td>\n",
       "      <td>0</td>\n",
       "      <td>0</td>\n",
       "      <td>1</td>\n",
       "      <td>0</td>\n",
       "      <td>0</td>\n",
       "    </tr>\n",
       "  </tbody>\n",
       "</table>\n",
       "<p>12684 rows × 25 columns</p>\n",
       "</div>"
      ],
      "text/plain": [
       "           destination  passanger weather  temperature  time  \\\n",
       "0      No Urgent Place      Alone   Sunny           55   2PM   \n",
       "1      No Urgent Place  Friend(s)   Sunny           80  10AM   \n",
       "2      No Urgent Place  Friend(s)   Sunny           80  10AM   \n",
       "3      No Urgent Place  Friend(s)   Sunny           80   2PM   \n",
       "4      No Urgent Place  Friend(s)   Sunny           80   2PM   \n",
       "...                ...        ...     ...          ...   ...   \n",
       "12679             Home    Partner   Rainy           55   6PM   \n",
       "12680             Work      Alone   Rainy           55   7AM   \n",
       "12681             Work      Alone   Snowy           30   7AM   \n",
       "12682             Work      Alone   Snowy           30   7AM   \n",
       "12683             Work      Alone   Sunny           80   7AM   \n",
       "\n",
       "                      coupon expiration  gender age      maritalStatus  ...  \\\n",
       "0            Restaurant(<20)         1d  Female  21  Unmarried partner  ...   \n",
       "1               Coffee House         2h  Female  21  Unmarried partner  ...   \n",
       "2      Carry out & Take away         2h  Female  21  Unmarried partner  ...   \n",
       "3               Coffee House         2h  Female  21  Unmarried partner  ...   \n",
       "4               Coffee House         1d  Female  21  Unmarried partner  ...   \n",
       "...                      ...        ...     ...  ..                ...  ...   \n",
       "12679  Carry out & Take away         1d    Male  26             Single  ...   \n",
       "12680  Carry out & Take away         1d    Male  26             Single  ...   \n",
       "12681           Coffee House         1d    Male  26             Single  ...   \n",
       "12682                    Bar         1d    Male  26             Single  ...   \n",
       "12683      Restaurant(20-50)         2h    Male  26             Single  ...   \n",
       "\n",
       "       CoffeeHouse CarryAway RestaurantLessThan20 Restaurant20To50  \\\n",
       "0            never       NaN                  4~8              1~3   \n",
       "1            never       NaN                  4~8              1~3   \n",
       "2            never       NaN                  4~8              1~3   \n",
       "3            never       NaN                  4~8              1~3   \n",
       "4            never       NaN                  4~8              1~3   \n",
       "...            ...       ...                  ...              ...   \n",
       "12679        never       1~3                  4~8              1~3   \n",
       "12680        never       1~3                  4~8              1~3   \n",
       "12681        never       1~3                  4~8              1~3   \n",
       "12682        never       1~3                  4~8              1~3   \n",
       "12683        never       1~3                  4~8              1~3   \n",
       "\n",
       "      toCoupon_GEQ5min toCoupon_GEQ15min toCoupon_GEQ25min direction_same  \\\n",
       "0                    1                 0                 0              0   \n",
       "1                    1                 0                 0              0   \n",
       "2                    1                 1                 0              0   \n",
       "3                    1                 1                 0              0   \n",
       "4                    1                 1                 0              0   \n",
       "...                ...               ...               ...            ...   \n",
       "12679                1                 0                 0              1   \n",
       "12680                1                 0                 0              0   \n",
       "12681                1                 0                 0              1   \n",
       "12682                1                 1                 1              0   \n",
       "12683                1                 0                 0              1   \n",
       "\n",
       "      direction_opp  Y  \n",
       "0                 1  1  \n",
       "1                 1  0  \n",
       "2                 1  1  \n",
       "3                 1  0  \n",
       "4                 1  0  \n",
       "...             ... ..  \n",
       "12679             0  1  \n",
       "12680             1  1  \n",
       "12681             0  0  \n",
       "12682             1  0  \n",
       "12683             0  0  \n",
       "\n",
       "[12684 rows x 25 columns]"
      ]
     },
     "execution_count": 10,
     "metadata": {},
     "output_type": "execute_result"
    }
   ],
   "source": [
    "#Car data only contains a limited ammount of data (only 208 records) and the data is not valid per column name. Best solution is to create a new dataframe df where I drop the car column from the original dataset.\n",
    "#note that df is the new dataframe that will be used going forward.\n",
    "df = data.drop(columns='car')\n",
    "df"
   ]
  },
  {
   "cell_type": "code",
   "execution_count": 11,
   "metadata": {},
   "outputs": [],
   "source": [
    "#In order not to lose valid data in the other columns of records with null values, we will replace null with \"unknown\".  \n",
    "df.fillna('unknown', inplace=True)"
   ]
  },
  {
   "cell_type": "code",
   "execution_count": 12,
   "metadata": {},
   "outputs": [
    {
     "data": {
      "text/plain": [
       "destination             0\n",
       "passanger               0\n",
       "weather                 0\n",
       "temperature             0\n",
       "time                    0\n",
       "coupon                  0\n",
       "expiration              0\n",
       "gender                  0\n",
       "age                     0\n",
       "maritalStatus           0\n",
       "has_children            0\n",
       "education               0\n",
       "occupation              0\n",
       "income                  0\n",
       "Bar                     0\n",
       "CoffeeHouse             0\n",
       "CarryAway               0\n",
       "RestaurantLessThan20    0\n",
       "Restaurant20To50        0\n",
       "toCoupon_GEQ5min        0\n",
       "toCoupon_GEQ15min       0\n",
       "toCoupon_GEQ25min       0\n",
       "direction_same          0\n",
       "direction_opp           0\n",
       "Y                       0\n",
       "dtype: int64"
      ]
     },
     "execution_count": 12,
     "metadata": {},
     "output_type": "execute_result"
    }
   ],
   "source": [
    "#Verifying there is no longer null values \n",
    "df.isnull().sum()"
   ]
  },
  {
   "cell_type": "markdown",
   "metadata": {},
   "source": [
    "4. What proportion of the total observations chose to accept the coupon? \n",
    "\n"
   ]
  },
  {
   "cell_type": "code",
   "execution_count": 13,
   "metadata": {},
   "outputs": [
    {
     "name": "stdout",
     "output_type": "stream",
     "text": [
      "0.5684326710816777\n"
     ]
    }
   ],
   "source": [
    "#By taking the total number of accepted coupon records and dividing by the total number of records we can get the percentage that chose to accept the coupon.\n",
    "porportionAcceptCoupon = len(df.query(\"Y==1\")) / len(df)\n",
    "print(porportionAcceptCoupon)"
   ]
  },
  {
   "cell_type": "code",
   "execution_count": null,
   "metadata": {},
   "outputs": [],
   "source": []
  },
  {
   "cell_type": "markdown",
   "metadata": {},
   "source": [
    "5. Use a bar plot to visualize the `coupon` column."
   ]
  },
  {
   "cell_type": "code",
   "execution_count": 14,
   "metadata": {},
   "outputs": [
    {
     "data": {
      "image/png": "[encoded data removed]",
      "text/plain": [
       "<Figure size 1000x600 with 1 Axes>"
      ]
     },
     "metadata": {},
     "output_type": "display_data"
    }
   ],
   "source": [
    "#Get the number of records per coupon and create a bar plot to display the information\n",
    "coupon_counts = df['coupon'].value_counts()\n",
    "\n",
    "#Create bar plot using plotly and seaborn\n",
    "plt.figure(figsize=(10, 6)) \n",
    "sns.barplot(x=coupon_counts.index, y=coupon_counts.values)\n",
    "\n",
    "#Add labels and title\n",
    "plt.xlabel('Coupon')\n",
    "plt.ylabel('Count')\n",
    "plt.title('Coupon Counts')\n",
    "\n",
    "#Show image in notebook\n",
    "plt.show('png') "
   ]
  },
  {
   "cell_type": "markdown",
   "metadata": {},
   "source": [
    "6. Use a histogram to visualize the temperature column."
   ]
  },
  {
   "cell_type": "code",
   "execution_count": 15,
   "metadata": {},
   "outputs": [
    {
     "data": {
      "image/png": "[encoded data removed]",
      "text/plain": [
       "<Figure size 1000x600 with 1 Axes>"
      ]
     },
     "metadata": {},
     "output_type": "display_data"
    }
   ],
   "source": [
    "#Use plotly and seaborn to create a historgram of the temperature column in the dataframe\n",
    "plt.figure(figsize=(10, 6))\n",
    "sns.histplot(df['temperature'], bins=20, kde=False, edgecolor='black')\n",
    "\n",
    "#Add labels and title\n",
    "plt.xlabel('Temperature')\n",
    "plt.ylabel('Frequency')\n",
    "plt.title('Distribution of Temperature')\n",
    "\n",
    "#Show image in notebook\n",
    "plt.show('png')\n"
   ]
  },
  {
   "cell_type": "code",
   "execution_count": null,
   "metadata": {},
   "outputs": [],
   "source": []
  },
  {
   "cell_type": "code",
   "execution_count": null,
   "metadata": {},
   "outputs": [],
   "source": []
  },
  {
   "cell_type": "code",
   "execution_count": null,
   "metadata": {},
   "outputs": [],
   "source": []
  },
  {
   "cell_type": "code",
   "execution_count": null,
   "metadata": {},
   "outputs": [],
   "source": []
  },
  {
   "cell_type": "markdown",
   "metadata": {},
   "source": [
    "**Investigating the Bar Coupons**\n",
    "\n",
    "Now, we will lead you through an exploration of just the bar related coupons.  \n",
    "\n",
    "1. Create a new `DataFrame` that contains just the bar coupons.\n"
   ]
  },
  {
   "cell_type": "code",
   "execution_count": 16,
   "metadata": {},
   "outputs": [],
   "source": [
    "#Use .query() to filter the data \n",
    "bar_coupons = df.query(\"coupon == 'Bar'\")"
   ]
  },
  {
   "cell_type": "markdown",
   "metadata": {},
   "source": [
    "2. What proportion of bar coupons were accepted?\n"
   ]
  },
  {
   "cell_type": "code",
   "execution_count": null,
   "metadata": {},
   "outputs": [],
   "source": []
  },
  {
   "cell_type": "code",
   "execution_count": 17,
   "metadata": {},
   "outputs": [
    {
     "name": "stdout",
     "output_type": "stream",
     "text": [
      "0.41001487357461575\n"
     ]
    }
   ],
   "source": [
    "# proportion of bar coupons accepted is the number of bar coupons accepted divided by the total number of bar coupons\n",
    "proportion_bar_coupons_accepted = len(bar_coupons.query('Y==1')) / len(bar_coupons)\n",
    "proportion_bar_coupons_accepted\n",
    "print(proportion_bar_coupons_accepted)"
   ]
  },
  {
   "cell_type": "markdown",
   "metadata": {},
   "source": [
    "3. Compare the acceptance rate between those who went to a bar 3 or fewer times a month to those who went more.\n"
   ]
  },
  {
   "cell_type": "code",
   "execution_count": 18,
   "metadata": {},
   "outputs": [
    {
     "data": {
      "image/png": "[encoded data removed]",
      "text/plain": [
       "<Figure size 500x800 with 1 Axes>"
      ]
     },
     "metadata": {},
     "output_type": "display_data"
    },
    {
     "data": {
      "image/png": "[encoded data removed]",
      "text/plain": [
       "<Figure size 640x480 with 1 Axes>"
      ]
     },
     "metadata": {},
     "output_type": "display_data"
    },
    {
     "data": {
      "text/html": [
       "<div>\n",
       "<style scoped>\n",
       "    .dataframe tbody tr th:only-of-type {\n",
       "        vertical-align: middle;\n",
       "    }\n",
       "\n",
       "    .dataframe tbody tr th {\n",
       "        vertical-align: top;\n",
       "    }\n",
       "\n",
       "    .dataframe thead th {\n",
       "        text-align: right;\n",
       "    }\n",
       "</style>\n",
       "<table border=\"1\" class=\"dataframe\">\n",
       "  <thead>\n",
       "    <tr style=\"text-align: right;\">\n",
       "      <th></th>\n",
       "      <th>Bar Frequency</th>\n",
       "      <th>Acceptance Rate</th>\n",
       "    </tr>\n",
       "  </thead>\n",
       "  <tbody>\n",
       "    <tr>\n",
       "      <th>0</th>\n",
       "      <td>3 or Less</td>\n",
       "      <td>0.370618</td>\n",
       "    </tr>\n",
       "    <tr>\n",
       "      <th>1</th>\n",
       "      <td>More than 3</td>\n",
       "      <td>0.768844</td>\n",
       "    </tr>\n",
       "  </tbody>\n",
       "</table>\n",
       "</div>"
      ],
      "text/plain": [
       "  Bar Frequency  Acceptance Rate\n",
       "0     3 or Less         0.370618\n",
       "1   More than 3         0.768844"
      ]
     },
     "execution_count": 18,
     "metadata": {},
     "output_type": "execute_result"
    }
   ],
   "source": [
    "#within in each bar category we need to determine the acceptance rate based on the bar category's population\n",
    "bar_coupons_acceptance_rate = (bar_coupons.query('Y==1')[['Bar']].value_counts() / bar_coupons[['Bar']].value_counts()).reset_index()\n",
    "\n",
    "#Rename columns of new data frame\n",
    "bar_coupons_acceptance_rate.columns = ['Bar', 'Rate']\n",
    "\n",
    "#Remove \"unknown\" bar row from dataframe to accurately answer question\n",
    "bar_coupons_acceptance_rate = bar_coupons_acceptance_rate[bar_coupons_acceptance_rate[\"Bar\"] != 'unknown']\n",
    "\n",
    "#Create a function to map bar acceptance rates based on bar type: \"3 or fewer\" or \"more than 3\";\n",
    "def map_type(bar):\n",
    "    bar_three_or_less = ['1~3','less1', 'never']\n",
    "    bar_more_than_three = ['4~8', 'gt8']\n",
    "    if bar in bar_three_or_less:\n",
    "        return \"3 or fewer\"\n",
    "    elif bar in bar_more_than_three:\n",
    "        return \"more than 3\"\n",
    "    else:\n",
    "        return \"unknown\"\n",
    "\n",
    "#Create type column using function to determine type\n",
    "bar_coupons_acceptance_rate['Type'] = bar_coupons_acceptance_rate['Bar'].apply(map_type)\n",
    "\n",
    "#Create a box plot using Seaborn\n",
    "plt.figure(figsize=(5, 8))\n",
    "sns.boxplot(data=bar_coupons_acceptance_rate ,x=\"Type\", y='Rate')\n",
    "\n",
    "#Set labels and title\n",
    "plt.xlabel('Bar Frequency')\n",
    "plt.ylabel('Acceptance Rate')\n",
    "plt.title('Box Plot by Bar Frequency')\n",
    "\n",
    "#Show image in notebook\n",
    "plt.show('png')\n",
    "\n",
    "#Determine the acceptance rate for the 3 or less group\n",
    "bar_three_or_less = ['1~3','less1', 'never']\n",
    "bar_coupons_accepted_3_or_less = len(bar_coupons.query('Y==1 and Bar in @bar_three_or_less')) / len(bar_coupons.query('Bar in @bar_three_or_less')) \n",
    "\n",
    "#Determine the acceptance rate for the more than 3 group\n",
    "bar_more_than_three = ['4~8', 'gt8']\n",
    "bar_coupons_accepted_more_than_three = len(bar_coupons.query('Y==1 and Bar in @bar_more_than_three')) / len(bar_coupons.query('Bar in @bar_more_than_three'))\n",
    "\n",
    "#Crate data frane to store the results\n",
    "bar_frequency_comparison = pd.DataFrame({'Bar Frequency' : ['3 or Less', 'More than 3'],\n",
    "                            'Acceptance Rate' : [bar_coupons_accepted_3_or_less, bar_coupons_accepted_more_than_three]})\n",
    "\n",
    "#Create bar chart of results\n",
    "sns.barplot(data=bar_frequency_comparison, x='Bar Frequency', y='Acceptance Rate')\n",
    "plt.xlabel('Bar Frequency')\n",
    "plt.ylabel('Acceptance Rate')\n",
    "plt.title('Bar Chart by Bar Frequency')\n",
    "plt.show('png')                         \n",
    "\n",
    "#Finally display the actual acceptance rate values\n",
    "bar_frequency_comparison"
   ]
  },
  {
   "cell_type": "markdown",
   "metadata": {},
   "source": [
    "4. Compare the acceptance rate between drivers who go to a bar more than once a month and are over the age of 25 to the all others.  Is there a difference?\n"
   ]
  },
  {
   "cell_type": "code",
   "execution_count": 19,
   "metadata": {},
   "outputs": [
    {
     "data": {
      "image/png": "[encoded data removed]",
      "text/plain": [
       "<Figure size 1000x800 with 1 Axes>"
      ]
     },
     "metadata": {},
     "output_type": "display_data"
    },
    {
     "data": {
      "text/html": [
       "<div>\n",
       "<style scoped>\n",
       "    .dataframe tbody tr th:only-of-type {\n",
       "        vertical-align: middle;\n",
       "    }\n",
       "\n",
       "    .dataframe tbody tr th {\n",
       "        vertical-align: top;\n",
       "    }\n",
       "\n",
       "    .dataframe thead th {\n",
       "        text-align: right;\n",
       "    }\n",
       "</style>\n",
       "<table border=\"1\" class=\"dataframe\">\n",
       "  <thead>\n",
       "    <tr style=\"text-align: right;\">\n",
       "      <th></th>\n",
       "      <th>Bar Group</th>\n",
       "      <th>Acceptance Rate</th>\n",
       "    </tr>\n",
       "  </thead>\n",
       "  <tbody>\n",
       "    <tr>\n",
       "      <th>0</th>\n",
       "      <td>Once a month or more and over 25</td>\n",
       "      <td>0.681818</td>\n",
       "    </tr>\n",
       "    <tr>\n",
       "      <th>1</th>\n",
       "      <td>Less than once a month and under 25</td>\n",
       "      <td>0.394495</td>\n",
       "    </tr>\n",
       "  </tbody>\n",
       "</table>\n",
       "</div>"
      ],
      "text/plain": [
       "                             Bar Group  Acceptance Rate\n",
       "0     Once a month or more and over 25         0.681818\n",
       "1  Less than once a month and under 25         0.394495"
      ]
     },
     "execution_count": 19,
     "metadata": {},
     "output_type": "execute_result"
    }
   ],
   "source": [
    "#Since we cannot determine if records with bar = 1~3 contain people who go only 1 once a month, I will consider the question to mean once a month or more. \n",
    "#Create variables to store the query criteria. Criteria determined by running value counts on bar_coupons[\"Bar\"] and bar_coupons['age'] and analzying the resulting data\n",
    "bar_less_than_1 = ['less1', 'never']\n",
    "age_less_than_25 = ['21','below21']\n",
    "\n",
    "#Determine the acceptance rate for drivers who go to a bar once a month or more and are over the age of 25\n",
    "bar_coupons_acceptance_rate_group_1 = len(bar_coupons.query('Y==1 and Bar not in @bar_less_than_1 and age not in @age_less_than_25')) / len(bar_coupons.query('Bar not in @bar_less_than_1 and age not in @age_less_than_25'))\n",
    "\n",
    "#Determine the acceptance rate for drivers who go to a bar less than once a month and are under the age of 25\n",
    "bar_coupons_acceptance_rate_group_2 = len(bar_coupons.query('Y==1 and Bar in @bar_less_than_1 and age in @age_less_than_25')) / len(bar_coupons.query('Bar in @bar_less_than_1 and age in @age_less_than_25'))\n",
    "\n",
    "#Create dataframe to store the results\n",
    "bar_group_comparison = pd.DataFrame({'Bar Group' : ['Once a month or more and over 25', 'Less than once a month and under 25'],\n",
    "                            'Acceptance Rate' : [bar_coupons_acceptance_rate_group_1, bar_coupons_acceptance_rate_group_2]})\n",
    "\n",
    "#Create bar chart of results\n",
    "plt.figure(figsize=(10, 8))\n",
    "sns.barplot(data=bar_group_comparison, x='Bar Group', y='Acceptance Rate')\n",
    "plt.xlabel('Bar Group')\n",
    "plt.ylabel('Acceptance Rate')\n",
    "plt.title('Box Plot by Bar Group')\n",
    "plt.show('png')                         \n",
    "\n",
    "#Finally display the actual acceptance rate values\n",
    "bar_group_comparison"
   ]
  },
  {
   "cell_type": "code",
   "execution_count": null,
   "metadata": {},
   "outputs": [],
   "source": []
  },
  {
   "cell_type": "markdown",
   "metadata": {},
   "source": [
    "5. Use the same process to compare the acceptance rate between drivers who go to bars more than once a month and had passengers that were not a kid and had occupations other than farming, fishing, or forestry. \n"
   ]
  },
  {
   "cell_type": "code",
   "execution_count": 20,
   "metadata": {},
   "outputs": [
    {
     "data": {
      "image/png": "[encoded data removed]",
      "text/plain": [
       "<Figure size 1000x800 with 1 Axes>"
      ]
     },
     "metadata": {},
     "output_type": "display_data"
    },
    {
     "data": {
      "text/html": [
       "<div>\n",
       "<style scoped>\n",
       "    .dataframe tbody tr th:only-of-type {\n",
       "        vertical-align: middle;\n",
       "    }\n",
       "\n",
       "    .dataframe tbody tr th {\n",
       "        vertical-align: top;\n",
       "    }\n",
       "\n",
       "    .dataframe thead th {\n",
       "        text-align: right;\n",
       "    }\n",
       "</style>\n",
       "<table border=\"1\" class=\"dataframe\">\n",
       "  <thead>\n",
       "    <tr style=\"text-align: right;\">\n",
       "      <th></th>\n",
       "      <th>Bar Group</th>\n",
       "      <th>Acceptance Rate</th>\n",
       "    </tr>\n",
       "  </thead>\n",
       "  <tbody>\n",
       "    <tr>\n",
       "      <th>0</th>\n",
       "      <td>Group 1</td>\n",
       "      <td>0.702988</td>\n",
       "    </tr>\n",
       "    <tr>\n",
       "      <th>1</th>\n",
       "      <td>Group 2</td>\n",
       "      <td>0.333333</td>\n",
       "    </tr>\n",
       "  </tbody>\n",
       "</table>\n",
       "</div>"
      ],
      "text/plain": [
       "  Bar Group  Acceptance Rate\n",
       "0   Group 1         0.702988\n",
       "1   Group 2         0.333333"
      ]
     },
     "execution_count": 20,
     "metadata": {},
     "output_type": "execute_result"
    }
   ],
   "source": [
    "#Determine the acceptance rate for drivers who go to a bar once a month or more and have passengers that were not a kid and had occupations other than farming, fishing or forestry.\n",
    "group1 = len(bar_coupons.query(\"Y==1 and occupation != 'Farming Fishing & Forestry' and passanger != 'Kid(s)' and Bar not in @bar_less_than_1\"))/len(bar_coupons.query(\"occupation != 'Farming Fishing & Forestry' and passanger != 'Kid(s)' and Bar not in @bar_less_than_1\"))\n",
    "\n",
    "#Determine the acceptance rate for drivers who go to a bar less than once a month and have passengers that not a kid and had farming, fishing or forestry as their occupation.\n",
    "group2 = len(bar_coupons.query(\"Y==1 and occupation == 'Farming Fishing & Forestry' and passanger == 'Kid(s)' and Bar in @bar_less_than_1\"))/len(bar_coupons.query(\"occupation == 'Farming Fishing & Forestry' and passanger == 'Kid(s)' and Bar in @bar_less_than_1\"))\n",
    "\n",
    "#Create dataframe to store the results\n",
    "bar_group_comparison2 = pd.DataFrame({'Bar Group' : ['Group 1', 'Group 2'],\n",
    "                            'Acceptance Rate' : [group1, group2]})\n",
    "\n",
    "#Create bar chart of results\n",
    "plt.figure(figsize=(10, 8))\n",
    "sns.barplot(data=bar_group_comparison2, x='Bar Group', y='Acceptance Rate')\n",
    "plt.xlabel('Bar Group')\n",
    "plt.ylabel('Acceptance Rate')\n",
    "plt.title('Box Plot by Bar Group')\n",
    "plt.show('png')                         \n",
    "\n",
    "#Finally display the actual acceptance rate values\n",
    "bar_group_comparison2"
   ]
  },
  {
   "cell_type": "code",
   "execution_count": null,
   "metadata": {},
   "outputs": [],
   "source": []
  },
  {
   "cell_type": "markdown",
   "metadata": {},
   "source": [
    "6. Compare the acceptance rates between those drivers who:\n",
    "\n",
    "- go to bars more than once a month, had passengers that were not a kid, and were not widowed *OR*\n",
    "- go to bars more than once a month and are under the age of 30 *OR*\n",
    "- go to cheap restaurants more than 4 times a month and income is less than 50K. \n",
    "\n"
   ]
  },
  {
   "cell_type": "code",
   "execution_count": 21,
   "metadata": {},
   "outputs": [
    {
     "name": "stdout",
     "output_type": "stream",
     "text": [
      "maritalStatus\n",
      "Married partner      882\n",
      "Single               661\n",
      "Unmarried partner    378\n",
      "Divorced              75\n",
      "Widowed               21\n",
      "Name: count, dtype: int64\n"
     ]
    }
   ],
   "source": [
    "print(bar_coupons[\"maritalStatus\"].value_counts())"
   ]
  },
  {
   "cell_type": "code",
   "execution_count": 22,
   "metadata": {},
   "outputs": [],
   "source": [
    "#Determine the acceptance rate of drivers who go to bars more than once a month, had passengers that were not a kid, and were not widowed\n",
    "no_kid_more_than_1_month_not_widowed = len(bar_coupons.query('Y==1 and passanger != \"Kid(s)\" & maritalStatus != \"Widowed\" and Bar not in @bar_less_than_1')) /len(bar_coupons.query('passanger != \"Kid(s)\" & maritalStatus != \"Widowed\" and Bar not in @bar_less_than_1'))\n"
   ]
  },
  {
   "cell_type": "code",
   "execution_count": 23,
   "metadata": {},
   "outputs": [
    {
     "name": "stdout",
     "output_type": "stream",
     "text": [
      "0.7220630372492837\n"
     ]
    }
   ],
   "source": [
    "#Create variable to store query criteria for age less than 30\n",
    "age_less_than_30 = ['below21','21','26']\n",
    "\n",
    "#Determine the acceptance rate of drivers who go to bars more than once a month and are under the age of 30\n",
    "more_than_1_month_under_30 = len(bar_coupons.query('Y==1 and Bar not in @bar_less_than_1 and age in @age_less_than_30'))/len(bar_coupons.query('Bar not in @bar_less_than_1 and age in @age_less_than_30'))\n",
    "print(more_than_1_month_under_30)"
   ]
  },
  {
   "cell_type": "code",
   "execution_count": 24,
   "metadata": {},
   "outputs": [
    {
     "name": "stdout",
     "output_type": "stream",
     "text": [
      "0.45348837209302323\n"
     ]
    }
   ],
   "source": [
    "#Create variable to store query criteria for going to restaraunts 4 time a month or more\n",
    "restaurant = ['4~8', 'gt8']\n",
    "\n",
    "#Create variable to store query criteria for income less than 50k\n",
    "income_less_than_50k = ['Less than $12500','$12500 - $24999', '$25000 - $37499', '$37500 - $49999']\n",
    "\n",
    "#Determine the acceptance rate of drivers who go to cheap restaurants more than 4 times a month and income is less than 50K\n",
    "cheap_restaurant_more_than_4_times_and_less_than_50k = len(bar_coupons.query('Y==1 and RestaurantLessThan20 in @restaurant and income in @income_less_than_50k'))/len(bar_coupons.query('RestaurantLessThan20 in @restaurant and income in @income_less_than_50k'))\n",
    "print(cheap_restaurant_more_than_4_times_and_less_than_50k)"
   ]
  },
  {
   "cell_type": "code",
   "execution_count": 25,
   "metadata": {},
   "outputs": [
    {
     "data": {
      "image/png": "[encoded data removed]",
      "text/plain": [
       "<Figure size 1000x800 with 1 Axes>"
      ]
     },
     "metadata": {},
     "output_type": "display_data"
    }
   ],
   "source": [
    "#Store in data frame a create bar chart for results\n",
    "bar_group_comparison3 = pd.DataFrame({'Bar Group' : ['Group 1', 'Group 2', 'Group 3'],\n",
    "                            'Acceptance Rate' : [no_kid_more_than_1_month_not_widowed, more_than_1_month_under_30, cheap_restaurant_more_than_4_times_and_less_than_50k]})\n",
    "\n",
    "#Create bar chart of results\n",
    "plt.figure(figsize=(10, 8))\n",
    "sns.barplot(data=bar_group_comparison3, x='Bar Group', y='Acceptance Rate')\n",
    "plt.xlabel('Bar Group')\n",
    "plt.ylabel('Acceptance Rate')\n",
    "plt.title('Box Plot by Bar Group')\n",
    "plt.show('png')                    "
   ]
  },
  {
   "cell_type": "markdown",
   "metadata": {},
   "source": [
    "7.  Based on these observations, what do you hypothesize about drivers who accepted the bar coupons?"
   ]
  },
  {
   "cell_type": "code",
   "execution_count": 26,
   "metadata": {},
   "outputs": [],
   "source": [
    "#Bar column has the greatest impact on acceptance rate for the bar coupon"
   ]
  },
  {
   "cell_type": "markdown",
   "metadata": {},
   "source": [
    "### Independent Investigation\n",
    "\n",
    "Using the bar coupon example as motivation, you are to explore one of the other coupon groups and try to determine the characteristics of passengers who accept the coupons.  "
   ]
  },
  {
   "cell_type": "code",
   "execution_count": 27,
   "metadata": {},
   "outputs": [
    {
     "data": {
      "text/plain": [
       "coupon\n",
       "Coffee House             3996\n",
       "Restaurant(<20)          2786\n",
       "Carry out & Take away    2393\n",
       "Bar                      2017\n",
       "Restaurant(20-50)        1492\n",
       "Name: count, dtype: int64"
      ]
     },
     "execution_count": 27,
     "metadata": {},
     "output_type": "execute_result"
    }
   ],
   "source": [
    "#Analyize the different coupon types and their counts\n",
    "couponTypes = df['coupon'].value_counts()\n",
    "couponTypes"
   ]
  },
  {
   "cell_type": "code",
   "execution_count": 28,
   "metadata": {},
   "outputs": [],
   "source": [
    "#Create a Coffee House Coupon DataFrame\n",
    "coffeeHouseDF = df[df['coupon']== 'Coffee House']\n",
    "#Usee applymap to convert int to str this is needed to make dataframe query consistent across all columns\n",
    "coffeeHouseDF = coffeeHouseDF.applymap(lambda x: str(x) if isinstance(x, int) else x)"
   ]
  },
  {
   "cell_type": "code",
   "execution_count": 29,
   "metadata": {},
   "outputs": [],
   "source": [
    "#Create a program that determines the highest approval rate based on each column:\n",
    "#First we will need a list of each column in the data frame\n",
    "columns = coffeeHouseDF.columns.tolist()"
   ]
  },
  {
   "cell_type": "code",
   "execution_count": 50,
   "metadata": {},
   "outputs": [
    {
     "data": {
      "application/vnd.plotly.v1+json": {
       "config": {
        "plotlyServerURL": "https://plot.ly"
       },
       "data": [
        {
         "hovertemplate": "ColumnName=destination<br>ValueApprovalCount=%{x}<br>ValueApprovalRate=%{y}<extra></extra>",
         "legendgroup": "destination",
         "marker": {
          "color": "#636efa",
          "symbol": "circle"
         },
         "mode": "markers",
         "name": "destination",
         "orientation": "v",
         "showlegend": true,
         "type": "scatter",
         "x": [
          1252,
          336,
          407
         ],
         "xaxis": "x",
         "y": [
          0.5809744779582366,
          0.3620689655172414,
          0.4457831325301205
         ],
         "yaxis": "y"
        },
        {
         "hovertemplate": "ColumnName=passanger<br>ValueApprovalCount=%{x}<br>ValueApprovalRate=%{y}<extra></extra>",
         "legendgroup": "passanger",
         "marker": {
          "color": "#EF553B",
          "symbol": "circle"
         },
         "mode": "markers",
         "name": "passanger",
         "orientation": "v",
         "showlegend": true,
         "type": "scatter",
         "x": [
          733,
          100,
          988,
          174
         ],
         "xaxis": "x",
         "y": [
          0.5969055374592834,
          0.4830917874396135,
          0.4379432624113475,
          0.5704918032786885
         ],
         "yaxis": "y"
        },
        {
         "hovertemplate": "ColumnName=weather<br>ValueApprovalCount=%{x}<br>ValueApprovalRate=%{y}<extra></extra>",
         "legendgroup": "weather",
         "marker": {
          "color": "#00cc96",
          "symbol": "circle"
         },
         "mode": "markers",
         "name": "weather",
         "orientation": "v",
         "showlegend": true,
         "type": "scatter",
         "x": [
          1746,
          118,
          131
         ],
         "xaxis": "x",
         "y": [
          0.5036054225555235,
          0.5221238938053098,
          0.43234323432343236
         ],
         "yaxis": "y"
        },
        {
         "hovertemplate": "ColumnName=temperature<br>ValueApprovalCount=%{x}<br>ValueApprovalRate=%{y}<extra></extra>",
         "legendgroup": "temperature",
         "marker": {
          "color": "#ab63fa",
          "symbol": "circle"
         },
         "mode": "markers",
         "name": "temperature",
         "orientation": "v",
         "showlegend": true,
         "type": "scatter",
         "x": [
          1272,
          582,
          141
         ],
         "xaxis": "x",
         "y": [
          0.5297792586422324,
          0.4557556773688332,
          0.44339622641509435
         ],
         "yaxis": "y"
        },
        {
         "hovertemplate": "ColumnName=time<br>ValueApprovalCount=%{x}<br>ValueApprovalRate=%{y}<extra></extra>",
         "legendgroup": "time",
         "marker": {
          "color": "#FFA15A",
          "symbol": "circle"
         },
         "mode": "markers",
         "name": "time",
         "orientation": "v",
         "showlegend": true,
         "type": "scatter",
         "x": [
          576,
          435,
          451,
          407,
          126
         ],
         "xaxis": "x",
         "y": [
          0.6407119021134594,
          0.5478589420654912,
          0.4126258005489479,
          0.4457831325301205,
          0.42424242424242425
         ],
         "yaxis": "y"
        },
        {
         "hovertemplate": "ColumnName=coupon<br>ValueApprovalCount=%{x}<br>ValueApprovalRate=%{y}<extra></extra>",
         "legendgroup": "coupon",
         "marker": {
          "color": "#19d3f3",
          "symbol": "circle"
         },
         "mode": "markers",
         "name": "coupon",
         "orientation": "v",
         "showlegend": true,
         "type": "scatter",
         "x": [
          1995
         ],
         "xaxis": "x",
         "y": [
          0.49924924924924924
         ],
         "yaxis": "y"
        },
        {
         "hovertemplate": "ColumnName=expiration<br>ValueApprovalCount=%{x}<br>ValueApprovalRate=%{y}<extra></extra>",
         "legendgroup": "expiration",
         "marker": {
          "color": "#FF6692",
          "symbol": "circle"
         },
         "mode": "markers",
         "name": "expiration",
         "orientation": "v",
         "showlegend": true,
         "type": "scatter",
         "x": [
          962,
          1033
         ],
         "xaxis": "x",
         "y": [
          0.4319712617871576,
          0.5839457320520068
         ],
         "yaxis": "y"
        },
        {
         "hovertemplate": "ColumnName=gender<br>ValueApprovalCount=%{x}<br>ValueApprovalRate=%{y}<extra></extra>",
         "legendgroup": "gender",
         "marker": {
          "color": "#B6E880",
          "symbol": "circle"
         },
         "mode": "markers",
         "name": "gender",
         "orientation": "v",
         "showlegend": true,
         "type": "scatter",
         "x": [
          1010,
          985
         ],
         "xaxis": "x",
         "y": [
          0.492442710872745,
          0.506426735218509
         ],
         "yaxis": "y"
        },
        {
         "hovertemplate": "ColumnName=age<br>ValueApprovalCount=%{x}<br>ValueApprovalRate=%{y}<extra></extra>",
         "legendgroup": "age",
         "marker": {
          "color": "#FF97FF",
          "symbol": "circle"
         },
         "mode": "markers",
         "name": "age",
         "orientation": "v",
         "showlegend": true,
         "type": "scatter",
         "x": [
          463,
          113,
          434,
          297,
          163,
          229,
          188,
          108
         ],
         "xaxis": "x",
         "y": [
          0.5243488108720272,
          0.5136363636363637,
          0.5148279952550415,
          0.4767255216693419,
          0.5015384615384615,
          0.42018348623853213,
          0.46766169154228854,
          0.6967741935483871
         ],
         "yaxis": "y"
        },
        {
         "hovertemplate": "ColumnName=maritalStatus<br>ValueApprovalCount=%{x}<br>ValueApprovalRate=%{y}<extra></extra>",
         "legendgroup": "maritalStatus",
         "marker": {
          "color": "#FECB52",
          "symbol": "circle"
         },
         "mode": "markers",
         "name": "maritalStatus",
         "orientation": "v",
         "showlegend": true,
         "type": "scatter",
         "x": [
          343,
          800,
          760,
          79,
          13
         ],
         "xaxis": "x",
         "y": [
          0.4783821478382148,
          0.5161290322580645,
          0.49318624269954575,
          0.5231788079470199,
          0.35135135135135137
         ],
         "yaxis": "y"
        },
        {
         "hovertemplate": "ColumnName=has_children<br>ValueApprovalCount=%{x}<br>ValueApprovalRate=%{y}<extra></extra>",
         "legendgroup": "has_children",
         "marker": {
          "color": "#636efa",
          "symbol": "circle"
         },
         "mode": "markers",
         "name": "has_children",
         "orientation": "v",
         "showlegend": true,
         "type": "scatter",
         "x": [
          757,
          1238
         ],
         "xaxis": "x",
         "y": [
          0.48838709677419356,
          0.5061324611610794
         ],
         "yaxis": "y"
        },
        {
         "hovertemplate": "ColumnName=education<br>ValueApprovalCount=%{x}<br>ValueApprovalRate=%{y}<extra></extra>",
         "legendgroup": "education",
         "marker": {
          "color": "#EF553B",
          "symbol": "circle"
         },
         "mode": "markers",
         "name": "education",
         "orientation": "v",
         "showlegend": true,
         "type": "scatter",
         "x": [
          707,
          634,
          181,
          151,
          305,
          17
         ],
         "xaxis": "x",
         "y": [
          0.5156819839533188,
          0.46277372262773725,
          0.5171428571428571,
          0.5412186379928315,
          0.5100334448160535,
          0.6071428571428571
         ],
         "yaxis": "y"
        },
        {
         "hovertemplate": "ColumnName=occupation<br>ValueApprovalCount=%{x}<br>ValueApprovalRate=%{y}<extra></extra>",
         "legendgroup": "occupation",
         "marker": {
          "color": "#00cc96",
          "symbol": "circle"
         },
         "mode": "markers",
         "name": "occupation",
         "orientation": "v",
         "showlegend": true,
         "type": "scatter",
         "x": [
          309,
          35,
          312,
          129,
          40,
          55,
          139,
          136,
          106,
          226,
          29,
          25,
          26,
          85,
          22,
          26,
          66,
          25,
          47,
          70,
          26,
          37,
          10,
          8,
          6
         ],
         "xaxis": "x",
         "y": [
          0.5421052631578948,
          0.5555555555555556,
          0.625250501002004,
          0.4358108108108108,
          0.6153846153846154,
          0.7432432432432432,
          0.39154929577464787,
          0.4563758389261745,
          0.507177033492823,
          0.5033407572383074,
          0.47540983606557374,
          0.5,
          0.35135135135135137,
          0.43147208121827413,
          0.4782608695652174,
          0.37681159420289856,
          0.4024390243902439,
          0.5681818181818182,
          0.618421052631579,
          0.4794520547945205,
          0.4482758620689655,
          0.4457831325301205,
          0.35714285714285715,
          0.7272727272727273,
          0.5454545454545454
         ],
         "yaxis": "y"
        },
        {
         "hovertemplate": "ColumnName=income<br>ValueApprovalCount=%{x}<br>ValueApprovalRate=%{y}<extra></extra>",
         "legendgroup": "income",
         "marker": {
          "color": "#ab63fa",
          "symbol": "circle"
         },
         "mode": "markers",
         "name": "income",
         "orientation": "v",
         "showlegend": true,
         "type": "scatter",
         "x": [
          320,
          120,
          321,
          70,
          276,
          303,
          264,
          151,
          170
         ],
         "xaxis": "x",
         "y": [
          0.5423728813559322,
          0.43636363636363634,
          0.5404040404040404,
          0.2966101694915254,
          0.5036496350364964,
          0.4734375,
          0.4943820224719101,
          0.5571955719557196,
          0.551948051948052
         ],
         "yaxis": "y"
        },
        {
         "hovertemplate": "ColumnName=Bar<br>ValueApprovalCount=%{x}<br>ValueApprovalRate=%{y}<extra></extra>",
         "legendgroup": "Bar",
         "marker": {
          "color": "#FFA15A",
          "symbol": "circle"
         },
         "mode": "markers",
         "name": "Bar",
         "orientation": "v",
         "showlegend": true,
         "type": "scatter",
         "x": [
          802,
          546,
          380,
          51,
          22,
          194
         ],
         "xaxis": "x",
         "y": [
          0.4902200488997555,
          0.5064935064935064,
          0.49868766404199477,
          0.45132743362831856,
          0.5945945945945946,
          0.5243243243243243
         ],
         "yaxis": "y"
        },
        {
         "hovertemplate": "ColumnName=CoffeeHouse<br>ValueApprovalCount=%{x}<br>ValueApprovalRate=%{y}<extra></extra>",
         "legendgroup": "CoffeeHouse",
         "marker": {
          "color": "#19d3f3",
          "symbol": "circle"
         },
         "mode": "markers",
         "name": "CoffeeHouse",
         "orientation": "v",
         "showlegend": true,
         "type": "scatter",
         "x": [
          175,
          518,
          369,
          675,
          225,
          33
         ],
         "xaxis": "x",
         "y": [
          0.18878101402373246,
          0.48186046511627906,
          0.6858736059479554,
          0.6477927063339731,
          0.6578947368421053,
          0.4583333333333333
         ],
         "yaxis": "y"
        },
        {
         "hovertemplate": "ColumnName=CarryAway<br>ValueApprovalCount=%{x}<br>ValueApprovalRate=%{y}<extra></extra>",
         "legendgroup": "CarryAway",
         "marker": {
          "color": "#FF6692",
          "symbol": "circle"
         },
         "mode": "markers",
         "name": "CarryAway",
         "orientation": "v",
         "showlegend": true,
         "type": "scatter",
         "x": [
          34,
          685,
          768,
          245,
          243,
          20
         ],
         "xaxis": "x",
         "y": [
          0.5964912280701754,
          0.5108128262490679,
          0.5133689839572193,
          0.5051546391752577,
          0.42334494773519166,
          0.46511627906976744
         ],
         "yaxis": "y"
        },
        {
         "hovertemplate": "ColumnName=RestaurantLessThan20<br>ValueApprovalCount=%{x}<br>ValueApprovalRate=%{y}<extra></extra>",
         "legendgroup": "RestaurantLessThan20",
         "marker": {
          "color": "#B6E880",
          "symbol": "circle"
         },
         "mode": "markers",
         "name": "RestaurantLessThan20",
         "orientation": "v",
         "showlegend": true,
         "type": "scatter",
         "x": [
          583,
          841,
          292,
          225,
          32,
          22
         ],
         "xaxis": "x",
         "y": [
          0.5136563876651983,
          0.5008933889219773,
          0.44992295839753466,
          0.5220417633410673,
          0.64,
          0.4230769230769231
         ],
         "yaxis": "y"
        },
        {
         "hovertemplate": "ColumnName=Restaurant20To50<br>ValueApprovalCount=%{x}<br>ValueApprovalRate=%{y}<extra></extra>",
         "legendgroup": "Restaurant20To50",
         "marker": {
          "color": "#FF97FF",
          "symbol": "circle"
         },
         "mode": "markers",
         "name": "Restaurant20To50",
         "orientation": "v",
         "showlegend": true,
         "type": "scatter",
         "x": [
          550,
          936,
          312,
          58,
          111,
          28
         ],
         "xaxis": "x",
         "y": [
          0.5164319248826291,
          0.5008025682182986,
          0.43213296398891965,
          0.6373626373626373,
          0.5721649484536082,
          0.509090909090909
         ],
         "yaxis": "y"
        },
        {
         "hovertemplate": "ColumnName=toCoupon_GEQ5min<br>ValueApprovalCount=%{x}<br>ValueApprovalRate=%{y}<extra></extra>",
         "legendgroup": "toCoupon_GEQ5min",
         "marker": {
          "color": "#FECB52",
          "symbol": "circle"
         },
         "mode": "markers",
         "name": "toCoupon_GEQ5min",
         "orientation": "v",
         "showlegend": true,
         "type": "scatter",
         "x": [
          1995
         ],
         "xaxis": "x",
         "y": [
          0.49924924924924924
         ],
         "yaxis": "y"
        },
        {
         "hovertemplate": "ColumnName=toCoupon_GEQ15min<br>ValueApprovalCount=%{x}<br>ValueApprovalRate=%{y}<extra></extra>",
         "legendgroup": "toCoupon_GEQ15min",
         "marker": {
          "color": "#636efa",
          "symbol": "circle"
         },
         "mode": "markers",
         "name": "toCoupon_GEQ15min",
         "orientation": "v",
         "showlegend": true,
         "type": "scatter",
         "x": [
          1054,
          941
         ],
         "xaxis": "x",
         "y": [
          0.5481019240769631,
          0.45393150024119633
         ],
         "yaxis": "y"
        },
        {
         "hovertemplate": "ColumnName=toCoupon_GEQ25min<br>ValueApprovalCount=%{x}<br>ValueApprovalRate=%{y}<extra></extra>",
         "legendgroup": "toCoupon_GEQ25min",
         "marker": {
          "color": "#EF553B",
          "symbol": "circle"
         },
         "mode": "markers",
         "name": "toCoupon_GEQ25min",
         "orientation": "v",
         "showlegend": true,
         "type": "scatter",
         "x": [
          1888,
          107
         ],
         "xaxis": "x",
         "y": [
          0.5122083559413999,
          0.34516129032258064
         ],
         "yaxis": "y"
        },
        {
         "hovertemplate": "ColumnName=direction_same<br>ValueApprovalCount=%{x}<br>ValueApprovalRate=%{y}<extra></extra>",
         "legendgroup": "direction_same",
         "marker": {
          "color": "#00cc96",
          "symbol": "circle"
         },
         "mode": "markers",
         "name": "direction_same",
         "orientation": "v",
         "showlegend": true,
         "type": "scatter",
         "x": [
          1597,
          398
         ],
         "xaxis": "x",
         "y": [
          0.49199014171287736,
          0.5306666666666666
         ],
         "yaxis": "y"
        },
        {
         "hovertemplate": "ColumnName=direction_opp<br>ValueApprovalCount=%{x}<br>ValueApprovalRate=%{y}<extra></extra>",
         "legendgroup": "direction_opp",
         "marker": {
          "color": "#ab63fa",
          "symbol": "circle"
         },
         "mode": "markers",
         "name": "direction_opp",
         "orientation": "v",
         "showlegend": true,
         "type": "scatter",
         "x": [
          1597,
          398
         ],
         "xaxis": "x",
         "y": [
          0.49199014171287736,
          0.5306666666666666
         ],
         "yaxis": "y"
        },
        {
         "hovertemplate": "ColumnName=Y<br>ValueApprovalCount=%{x}<br>ValueApprovalRate=%{y}<extra></extra>",
         "legendgroup": "Y",
         "marker": {
          "color": "#FFA15A",
          "symbol": "circle"
         },
         "mode": "markers",
         "name": "Y",
         "orientation": "v",
         "showlegend": true,
         "type": "scatter",
         "x": [
          0,
          1995
         ],
         "xaxis": "x",
         "y": [
          0,
          1
         ],
         "yaxis": "y"
        }
       ],
       "layout": {
        "legend": {
         "title": {
          "text": "ColumnName"
         },
         "tracegroupgap": 0
        },
        "margin": {
         "t": 60
        },
        "template": {
         "data": {
          "bar": [
           {
            "error_x": {
             "color": "#2a3f5f"
            },
            "error_y": {
             "color": "#2a3f5f"
            },
            "marker": {
             "line": {
              "color": "#E5ECF6",
              "width": 0.5
             },
             "pattern": {
              "fillmode": "overlay",
              "size": 10,
              "solidity": 0.2
             }
            },
            "type": "bar"
           }
          ],
          "barpolar": [
           {
            "marker": {
             "line": {
              "color": "#E5ECF6",
              "width": 0.5
             },
             "pattern": {
              "fillmode": "overlay",
              "size": 10,
              "solidity": 0.2
             }
            },
            "type": "barpolar"
           }
          ],
          "carpet": [
           {
            "aaxis": {
             "endlinecolor": "#2a3f5f",
             "gridcolor": "white",
             "linecolor": "white",
             "minorgridcolor": "white",
             "startlinecolor": "#2a3f5f"
            },
            "baxis": {
             "endlinecolor": "#2a3f5f",
             "gridcolor": "white",
             "linecolor": "white",
             "minorgridcolor": "white",
             "startlinecolor": "#2a3f5f"
            },
            "type": "carpet"
           }
          ],
          "choropleth": [
           {
            "colorbar": {
             "outlinewidth": 0,
             "ticks": ""
            },
            "type": "choropleth"
           }
          ],
          "contour": [
           {
            "colorbar": {
             "outlinewidth": 0,
             "ticks": ""
            },
            "colorscale": [
             [
              0,
              "#0d0887"
             ],
             [
              0.1111111111111111,
              "#46039f"
             ],
             [
              0.2222222222222222,
              "#7201a8"
             ],
             [
              0.3333333333333333,
              "#9c179e"
             ],
             [
              0.4444444444444444,
              "#bd3786"
             ],
             [
              0.5555555555555556,
              "#d8576b"
             ],
             [
              0.6666666666666666,
              "#ed7953"
             ],
             [
              0.7777777777777778,
              "#fb9f3a"
             ],
             [
              0.8888888888888888,
              "#fdca26"
             ],
             [
              1,
              "#f0f921"
             ]
            ],
            "type": "contour"
           }
          ],
          "contourcarpet": [
           {
            "colorbar": {
             "outlinewidth": 0,
             "ticks": ""
            },
            "type": "contourcarpet"
           }
          ],
          "heatmap": [
           {
            "colorbar": {
             "outlinewidth": 0,
             "ticks": ""
            },
            "colorscale": [
             [
              0,
              "#0d0887"
             ],
             [
              0.1111111111111111,
              "#46039f"
             ],
             [
              0.2222222222222222,
              "#7201a8"
             ],
             [
              0.3333333333333333,
              "#9c179e"
             ],
             [
              0.4444444444444444,
              "#bd3786"
             ],
             [
              0.5555555555555556,
              "#d8576b"
             ],
             [
              0.6666666666666666,
              "#ed7953"
             ],
             [
              0.7777777777777778,
              "#fb9f3a"
             ],
             [
              0.8888888888888888,
              "#fdca26"
             ],
             [
              1,
              "#f0f921"
             ]
            ],
            "type": "heatmap"
           }
          ],
          "heatmapgl": [
           {
            "colorbar": {
             "outlinewidth": 0,
             "ticks": ""
            },
            "colorscale": [
             [
              0,
              "#0d0887"
             ],
             [
              0.1111111111111111,
              "#46039f"
             ],
             [
              0.2222222222222222,
              "#7201a8"
             ],
             [
              0.3333333333333333,
              "#9c179e"
             ],
             [
              0.4444444444444444,
              "#bd3786"
             ],
             [
              0.5555555555555556,
              "#d8576b"
             ],
             [
              0.6666666666666666,
              "#ed7953"
             ],
             [
              0.7777777777777778,
              "#fb9f3a"
             ],
             [
              0.8888888888888888,
              "#fdca26"
             ],
             [
              1,
              "#f0f921"
             ]
            ],
            "type": "heatmapgl"
           }
          ],
          "histogram": [
           {
            "marker": {
             "pattern": {
              "fillmode": "overlay",
              "size": 10,
              "solidity": 0.2
             }
            },
            "type": "histogram"
           }
          ],
          "histogram2d": [
           {
            "colorbar": {
             "outlinewidth": 0,
             "ticks": ""
            },
            "colorscale": [
             [
              0,
              "#0d0887"
             ],
             [
              0.1111111111111111,
              "#46039f"
             ],
             [
              0.2222222222222222,
              "#7201a8"
             ],
             [
              0.3333333333333333,
              "#9c179e"
             ],
             [
              0.4444444444444444,
              "#bd3786"
             ],
             [
              0.5555555555555556,
              "#d8576b"
             ],
             [
              0.6666666666666666,
              "#ed7953"
             ],
             [
              0.7777777777777778,
              "#fb9f3a"
             ],
             [
              0.8888888888888888,
              "#fdca26"
             ],
             [
              1,
              "#f0f921"
             ]
            ],
            "type": "histogram2d"
           }
          ],
          "histogram2dcontour": [
           {
            "colorbar": {
             "outlinewidth": 0,
             "ticks": ""
            },
            "colorscale": [
             [
              0,
              "#0d0887"
             ],
             [
              0.1111111111111111,
              "#46039f"
             ],
             [
              0.2222222222222222,
              "#7201a8"
             ],
             [
              0.3333333333333333,
              "#9c179e"
             ],
             [
              0.4444444444444444,
              "#bd3786"
             ],
             [
              0.5555555555555556,
              "#d8576b"
             ],
             [
              0.6666666666666666,
              "#ed7953"
             ],
             [
              0.7777777777777778,
              "#fb9f3a"
             ],
             [
              0.8888888888888888,
              "#fdca26"
             ],
             [
              1,
              "#f0f921"
             ]
            ],
            "type": "histogram2dcontour"
           }
          ],
          "mesh3d": [
           {
            "colorbar": {
             "outlinewidth": 0,
             "ticks": ""
            },
            "type": "mesh3d"
           }
          ],
          "parcoords": [
           {
            "line": {
             "colorbar": {
              "outlinewidth": 0,
              "ticks": ""
             }
            },
            "type": "parcoords"
           }
          ],
          "pie": [
           {
            "automargin": true,
            "type": "pie"
           }
          ],
          "scatter": [
           {
            "fillpattern": {
             "fillmode": "overlay",
             "size": 10,
             "solidity": 0.2
            },
            "type": "scatter"
           }
          ],
          "scatter3d": [
           {
            "line": {
             "colorbar": {
              "outlinewidth": 0,
              "ticks": ""
             }
            },
            "marker": {
             "colorbar": {
              "outlinewidth": 0,
              "ticks": ""
             }
            },
            "type": "scatter3d"
           }
          ],
          "scattercarpet": [
           {
            "marker": {
             "colorbar": {
              "outlinewidth": 0,
              "ticks": ""
             }
            },
            "type": "scattercarpet"
           }
          ],
          "scattergeo": [
           {
            "marker": {
             "colorbar": {
              "outlinewidth": 0,
              "ticks": ""
             }
            },
            "type": "scattergeo"
           }
          ],
          "scattergl": [
           {
            "marker": {
             "colorbar": {
              "outlinewidth": 0,
              "ticks": ""
             }
            },
            "type": "scattergl"
           }
          ],
          "scattermapbox": [
           {
            "marker": {
             "colorbar": {
              "outlinewidth": 0,
              "ticks": ""
             }
            },
            "type": "scattermapbox"
           }
          ],
          "scatterpolar": [
           {
            "marker": {
             "colorbar": {
              "outlinewidth": 0,
              "ticks": ""
             }
            },
            "type": "scatterpolar"
           }
          ],
          "scatterpolargl": [
           {
            "marker": {
             "colorbar": {
              "outlinewidth": 0,
              "ticks": ""
             }
            },
            "type": "scatterpolargl"
           }
          ],
          "scatterternary": [
           {
            "marker": {
             "colorbar": {
              "outlinewidth": 0,
              "ticks": ""
             }
            },
            "type": "scatterternary"
           }
          ],
          "surface": [
           {
            "colorbar": {
             "outlinewidth": 0,
             "ticks": ""
            },
            "colorscale": [
             [
              0,
              "#0d0887"
             ],
             [
              0.1111111111111111,
              "#46039f"
             ],
             [
              0.2222222222222222,
              "#7201a8"
             ],
             [
              0.3333333333333333,
              "#9c179e"
             ],
             [
              0.4444444444444444,
              "#bd3786"
             ],
             [
              0.5555555555555556,
              "#d8576b"
             ],
             [
              0.6666666666666666,
              "#ed7953"
             ],
             [
              0.7777777777777778,
              "#fb9f3a"
             ],
             [
              0.8888888888888888,
              "#fdca26"
             ],
             [
              1,
              "#f0f921"
             ]
            ],
            "type": "surface"
           }
          ],
          "table": [
           {
            "cells": {
             "fill": {
              "color": "#EBF0F8"
             },
             "line": {
              "color": "white"
             }
            },
            "header": {
             "fill": {
              "color": "#C8D4E3"
             },
             "line": {
              "color": "white"
             }
            },
            "type": "table"
           }
          ]
         },
         "layout": {
          "annotationdefaults": {
           "arrowcolor": "#2a3f5f",
           "arrowhead": 0,
           "arrowwidth": 1
          },
          "autotypenumbers": "strict",
          "coloraxis": {
           "colorbar": {
            "outlinewidth": 0,
            "ticks": ""
           }
          },
          "colorscale": {
           "diverging": [
            [
             0,
             "#8e0152"
            ],
            [
             0.1,
             "#c51b7d"
            ],
            [
             0.2,
             "#de77ae"
            ],
            [
             0.3,
             "#f1b6da"
            ],
            [
             0.4,
             "#fde0ef"
            ],
            [
             0.5,
             "#f7f7f7"
            ],
            [
             0.6,
             "#e6f5d0"
            ],
            [
             0.7,
             "#b8e186"
            ],
            [
             0.8,
             "#7fbc41"
            ],
            [
             0.9,
             "#4d9221"
            ],
            [
             1,
             "#276419"
            ]
           ],
           "sequential": [
            [
             0,
             "#0d0887"
            ],
            [
             0.1111111111111111,
             "#46039f"
            ],
            [
             0.2222222222222222,
             "#7201a8"
            ],
            [
             0.3333333333333333,
             "#9c179e"
            ],
            [
             0.4444444444444444,
             "#bd3786"
            ],
            [
             0.5555555555555556,
             "#d8576b"
            ],
            [
             0.6666666666666666,
             "#ed7953"
            ],
            [
             0.7777777777777778,
             "#fb9f3a"
            ],
            [
             0.8888888888888888,
             "#fdca26"
            ],
            [
             1,
             "#f0f921"
            ]
           ],
           "sequentialminus": [
            [
             0,
             "#0d0887"
            ],
            [
             0.1111111111111111,
             "#46039f"
            ],
            [
             0.2222222222222222,
             "#7201a8"
            ],
            [
             0.3333333333333333,
             "#9c179e"
            ],
            [
             0.4444444444444444,
             "#bd3786"
            ],
            [
             0.5555555555555556,
             "#d8576b"
            ],
            [
             0.6666666666666666,
             "#ed7953"
            ],
            [
             0.7777777777777778,
             "#fb9f3a"
            ],
            [
             0.8888888888888888,
             "#fdca26"
            ],
            [
             1,
             "#f0f921"
            ]
           ]
          },
          "colorway": [
           "#636efa",
           "#EF553B",
           "#00cc96",
           "#ab63fa",
           "#FFA15A",
           "#19d3f3",
           "#FF6692",
           "#B6E880",
           "#FF97FF",
           "#FECB52"
          ],
          "font": {
           "color": "#2a3f5f"
          },
          "geo": {
           "bgcolor": "white",
           "lakecolor": "white",
           "landcolor": "#E5ECF6",
           "showlakes": true,
           "showland": true,
           "subunitcolor": "white"
          },
          "hoverlabel": {
           "align": "left"
          },
          "hovermode": "closest",
          "mapbox": {
           "style": "light"
          },
          "paper_bgcolor": "white",
          "plot_bgcolor": "#E5ECF6",
          "polar": {
           "angularaxis": {
            "gridcolor": "white",
            "linecolor": "white",
            "ticks": ""
           },
           "bgcolor": "#E5ECF6",
           "radialaxis": {
            "gridcolor": "white",
            "linecolor": "white",
            "ticks": ""
           }
          },
          "scene": {
           "xaxis": {
            "backgroundcolor": "#E5ECF6",
            "gridcolor": "white",
            "gridwidth": 2,
            "linecolor": "white",
            "showbackground": true,
            "ticks": "",
            "zerolinecolor": "white"
           },
           "yaxis": {
            "backgroundcolor": "#E5ECF6",
            "gridcolor": "white",
            "gridwidth": 2,
            "linecolor": "white",
            "showbackground": true,
            "ticks": "",
            "zerolinecolor": "white"
           },
           "zaxis": {
            "backgroundcolor": "#E5ECF6",
            "gridcolor": "white",
            "gridwidth": 2,
            "linecolor": "white",
            "showbackground": true,
            "ticks": "",
            "zerolinecolor": "white"
           }
          },
          "shapedefaults": {
           "line": {
            "color": "#2a3f5f"
           }
          },
          "ternary": {
           "aaxis": {
            "gridcolor": "white",
            "linecolor": "white",
            "ticks": ""
           },
           "baxis": {
            "gridcolor": "white",
            "linecolor": "white",
            "ticks": ""
           },
           "bgcolor": "#E5ECF6",
           "caxis": {
            "gridcolor": "white",
            "linecolor": "white",
            "ticks": ""
           }
          },
          "title": {
           "x": 0.05
          },
          "xaxis": {
           "automargin": true,
           "gridcolor": "white",
           "linecolor": "white",
           "ticks": "",
           "title": {
            "standoff": 15
           },
           "zerolinecolor": "white",
           "zerolinewidth": 2
          },
          "yaxis": {
           "automargin": true,
           "gridcolor": "white",
           "linecolor": "white",
           "ticks": "",
           "title": {
            "standoff": 15
           },
           "zerolinecolor": "white",
           "zerolinewidth": 2
          }
         }
        },
        "xaxis": {
         "anchor": "y",
         "domain": [
          0,
          1
         ],
         "title": {
          "text": "ValueApprovalCount"
         }
        },
        "yaxis": {
         "anchor": "x",
         "domain": [
          0,
          1
         ],
         "title": {
          "text": "ValueApprovalRate"
         }
        }
       }
      }
     },
     "metadata": {},
     "output_type": "display_data"
    }
   ],
   "source": [
    "#We also need a dataframe to store the columns and the approval rate\n",
    "coffeeHouseApprovalRatesColumns = ['ColumnName', 'ColumnValues', 'ValueApprovalRate', 'ValueCount', 'ValueApprovalCount']\n",
    "coffeeHouseApprovalRatesDF = pd.DataFrame(columns=coffeeHouseApprovalRatesColumns)\n",
    "#Next we need a loop that takes the list of columns and creates the approval rate for each column value\n",
    "for columnName in columns:\n",
    "    #Need to create a variable to store the unique values in the columns\n",
    "    columnsValues = coffeeHouseDF[columnName].unique()\n",
    "    #Loop through each column value and calculate the approval rate\n",
    "    for value in columnsValues:\n",
    "        valueCount = len(coffeeHouseDF.query(columnName + \"==\" + \"'\" + value + \"'\"))\n",
    "        valueApprovalCount = len(coffeeHouseDF.query(\"Y=='1' and \" + columnName + \"==\" + \"'\" + value + \"'\"))\n",
    "        valueApprovalRate = valueApprovalCount / valueCount\n",
    "        #Store the approval rate and additional information in the valueRecord Object\n",
    "        valueRecord = {\n",
    "            'ColumnName': columnName,\n",
    "            'ColumnValues': value,\n",
    "            'ValueApprovalRate': valueApprovalRate,\n",
    "            'ValueCount': valueCount,\n",
    "            'ValueApprovalCount': valueApprovalCount\n",
    "        }\n",
    "        #Add the value record to the data frame\n",
    "        coffeeHouseApprovalRatesDF.loc[len(coffeeHouseApprovalRatesDF)] = valueRecord\n",
    "\n",
    "\n",
    "# Create a scatter plot using to visualize data\n",
    "px.scatter(coffeeHouseApprovalRatesDF, 'ValueApprovalCount', 'ValueApprovalRate', 'ColumnName')"
   ]
  },
  {
   "cell_type": "code",
   "execution_count": 90,
   "metadata": {},
   "outputs": [
    {
     "data": {
      "text/plain": [
       "<Axes: xlabel='ColumnName', ylabel='ValueApprovalRate'>"
      ]
     },
     "execution_count": 90,
     "metadata": {},
     "output_type": "execute_result"
    },
    {
     "data": {
      "image/png": "[encoded data removed]",
      "text/plain": [
       "<Figure size 2000x800 with 1 Axes>"
      ]
     },
     "metadata": {},
     "output_type": "display_data"
    }
   ],
   "source": [
    "#Find the Greatest accpetance Rate Out of each column\n",
    "maxColumn = coffeeHouseApprovalRatesDF.groupby('ColumnName')[['ValueApprovalRate']].max().sort_values(by='ValueApprovalRate', ascending=False).reset_index()\n",
    "#Take top 10 columns with largest approval rates and create box plot to analyze results\n",
    "maxColumnTop10 = maxColumn.head(10)\n",
    "maxColumnRecords = coffeeHouseApprovalRatesDF[coffeeHouseApprovalRatesDF['ColumnName'].isin(maxColumnTop10['ColumnName'])]\n",
    "plt.figure(figsize=(20, 8))\n",
    "sns.boxplot(maxColumnRecords, x='ColumnName', y='ValueApprovalRate')\n"
   ]
  },
  {
   "cell_type": "code",
   "execution_count": 67,
   "metadata": {},
   "outputs": [
    {
     "name": "stdout",
     "output_type": "stream",
     "text": [
      "                                 ColumnValues  ValueApprovalRate  ValueCount\n",
      "49       Healthcare Practitioners & Technical           0.743243          74\n",
      "67  Building & Grounds Cleaning & Maintenance           0.727273          11\n",
      "46                                    Student           0.625251         499\n",
      "62           Transportation & Material Moving           0.618421          76\n",
      "48                         Healthcare Support           0.615385          65\n",
      "61          Installation Maintenance & Repair           0.568182          44\n",
      "45                 Architecture & Engineering           0.555556          63\n",
      "68                 Farming Fishing & Forestry           0.545455          11\n",
      "44                                 Unemployed           0.542105         570\n",
      "52   Arts Design Entertainment Sports & Media           0.507177         209\n",
      "53                    Computer & Mathematical           0.503341         449\n",
      "55                    Personal Care & Service           0.500000          50\n",
      "63                       Business & Financial           0.479452         146\n",
      "58                  Construction & Extraction           0.478261          46\n",
      "54               Life Physical Social Science           0.475410          61\n",
      "51                                 Management           0.456376         298\n",
      "64                         Protective Service           0.448276          58\n",
      "65         Food Preparation & Serving Related           0.445783          83\n",
      "47                 Education&Training&Library           0.435811         296\n",
      "57            Office & Administrative Support           0.431472         197\n",
      "60                                    Retired           0.402439         164\n",
      "50                            Sales & Related           0.391549         355\n",
      "59                                      Legal           0.376812          69\n",
      "66                     Production Occupations           0.357143          28\n",
      "56                Community & Social Services           0.351351          74\n"
     ]
    }
   ],
   "source": [
    "print(coffeeHouseApprovalRatesDF.query(\"ColumnName =='occupation'\")[['ColumnValues','ValueApprovalRate','ValueCount']].sort_values('ValueApprovalRate', ascending=False))"
   ]
  },
  {
   "cell_type": "code",
   "execution_count": 68,
   "metadata": {},
   "outputs": [
    {
     "name": "stdout",
     "output_type": "stream",
     "text": [
      "   ColumnValues  ValueApprovalRate  ValueCount\n",
      "86          4~8           0.685874         538\n",
      "88          gt8           0.657895         342\n",
      "87          1~3           0.647793        1042\n",
      "85        less1           0.481860        1075\n",
      "89      unknown           0.458333          72\n",
      "84        never           0.188781         927\n"
     ]
    }
   ],
   "source": [
    "print(coffeeHouseApprovalRatesDF.query(\"ColumnName =='CoffeeHouse'\")[['ColumnValues','ValueApprovalRate','ValueCount']].sort_values('ValueApprovalRate', ascending=False))"
   ]
  },
  {
   "cell_type": "code",
   "execution_count": 70,
   "metadata": {},
   "outputs": [
    {
     "name": "stdout",
     "output_type": "stream",
     "text": [
      "   ColumnValues  ValueApprovalRate  ValueCount\n",
      "30      below21           0.696774         155\n",
      "23           21           0.524349         883\n",
      "25           26           0.514828         843\n",
      "24           46           0.513636         220\n",
      "27           41           0.501538         325\n",
      "26           31           0.476726         623\n",
      "29           36           0.467662         402\n",
      "28       50plus           0.420183         545\n"
     ]
    }
   ],
   "source": [
    "print(coffeeHouseApprovalRatesDF.query(\"ColumnName =='age'\")[['ColumnValues','ValueApprovalRate','ValueCount']].sort_values('ValueApprovalRate', ascending=False))"
   ]
  },
  {
   "cell_type": "code",
   "execution_count": 71,
   "metadata": {},
   "outputs": [
    {
     "name": "stdout",
     "output_type": "stream",
     "text": [
      "   ColumnValues  ValueApprovalRate  ValueCount\n",
      "13         10AM           0.640712         899\n",
      "14          2PM           0.547859         794\n",
      "16          7AM           0.445783         913\n",
      "17         10PM           0.424242         297\n",
      "15          6PM           0.412626        1093\n"
     ]
    }
   ],
   "source": [
    "print(coffeeHouseApprovalRatesDF.query(\"ColumnName =='time'\")[['ColumnValues','ValueApprovalRate','ValueCount']].sort_values('ValueApprovalRate', ascending=False))"
   ]
  },
  {
   "cell_type": "code",
   "execution_count": 73,
   "metadata": {},
   "outputs": [
    {
     "name": "stdout",
     "output_type": "stream",
     "text": [
      "    ColumnValues  ValueApprovalRate  ValueCount\n",
      "100      unknown           0.640000          50\n",
      "99           gt8           0.522042         431\n",
      "96           4~8           0.513656        1135\n",
      "97           1~3           0.500893        1679\n",
      "98         less1           0.449923         649\n",
      "101        never           0.423077          52\n"
     ]
    }
   ],
   "source": [
    "print(coffeeHouseApprovalRatesDF.query(\"ColumnName =='RestaurantLessThan20'\")[['ColumnValues','ValueApprovalRate','ValueCount']].sort_values('ValueApprovalRate', ascending=False))"
   ]
  },
  {
   "cell_type": "code",
   "execution_count": 85,
   "metadata": {},
   "outputs": [
    {
     "name": "stdout",
     "output_type": "stream",
     "text": [
      "    ColumnValues  ValueApprovalRate  ValueCount\n",
      "100      unknown           0.640000          50\n",
      "99           gt8           0.522042         431\n",
      "96           4~8           0.513656        1135\n",
      "97           1~3           0.500893        1679\n",
      "98         less1           0.449923         649\n",
      "101        never           0.423077          52\n"
     ]
    }
   ],
   "source": [
    "print(coffeeHouseApprovalRatesDF.query(\"ColumnName =='RestaurantLessThan20'\")[['ColumnValues','ValueApprovalRate','ValueCount']].sort_values('ValueApprovalRate', ascending=False))"
   ]
  },
  {
   "cell_type": "code",
   "execution_count": null,
   "metadata": {},
   "outputs": [],
   "source": [
    "\n"
   ]
  },
  {
   "cell_type": "code",
   "execution_count": 76,
   "metadata": {},
   "outputs": [
    {
     "name": "stdout",
     "output_type": "stream",
     "text": [
      "    ColumnValues  ValueApprovalRate  ValueCount\n",
      "105          gt8           0.637363          91\n",
      "106          4~8           0.572165         194\n",
      "102          1~3           0.516432        1065\n",
      "107      unknown           0.509091          55\n",
      "103        less1           0.500803        1869\n",
      "104        never           0.432133         722\n"
     ]
    }
   ],
   "source": [
    "print(coffeeHouseApprovalRatesDF.query(\"ColumnName =='Restaurant20To50'\")[['ColumnValues','ValueApprovalRate','ValueCount']].sort_values('ValueApprovalRate', ascending=False))\n"
   ]
  },
  {
   "cell_type": "code",
   "execution_count": null,
   "metadata": {},
   "outputs": [],
   "source": []
  },
  {
   "cell_type": "code",
   "execution_count": 80,
   "metadata": {},
   "outputs": [
    {
     "name": "stdout",
     "output_type": "stream",
     "text": [
      "  ColumnValues  ValueApprovalRate  ValueCount\n",
      "3    Friend(s)           0.596906        1228\n",
      "6      Partner           0.570492         305\n",
      "4       Kid(s)           0.483092         207\n",
      "5        Alone           0.437943        2256\n"
     ]
    }
   ],
   "source": [
    "print(coffeeHouseApprovalRatesDF.query(\"ColumnName =='passanger'\")[['ColumnValues','ValueApprovalRate','ValueCount']].sort_values('ValueApprovalRate', ascending=False))"
   ]
  },
  {
   "cell_type": "code",
   "execution_count": 78,
   "metadata": {},
   "outputs": [
    {
     "data": {
      "text/plain": [
       "0.789308176100629"
      ]
     },
     "execution_count": 78,
     "metadata": {},
     "output_type": "execute_result"
    }
   ],
   "source": [
    "#analyze diffenet combinations to find highest approval rating using multiple Columns while keeping population size greater than 10% of entire population\n",
    "#len(coffeeHouseDF.query(\"Y== '1' and time=='10AM' and CoffeeHouse=='4~8'\"))/ len(coffeeHouseDF.query(\"time=='10AM' and CoffeeHouse=='4~8'\"))\n",
    "# print(len(coffeeHouseDF.query(\"time=='10AM' and CoffeeHouse=='4~8' and destination == 'No Urgent Place'\")))\n",
    "len(coffeeHouseDF.query(\"Y== '1' and time in ['10AM', '2PM'] and CoffeeHouse in ['4~8', '1~3','gt8'] and passanger in ['Friend(s)', 'Partner','Kid(s)']\"))/ len(coffeeHouseDF.query(\"time in ['10AM', '2PM'] and CoffeeHouse in ['4~8', '1~3','gt8'] and passanger in ['Friend(s)', 'Partner', 'Kid(s)']\"))\n",
    "# print(len(coffeeHouseDF.query(\"time=='10AM' and CoffeeHouse=='4~8'\")))\n",
    "#len(coffeeHouseDF.query(\"Y== '1' and occupation == 'Student' and  time in ['10AM', '2PM'] and CoffeeHouse in ['4~8', '1~3','gt8'] and passanger in ['Friend(s)', 'Partner','Kid(s)']\"))/ len(coffeeHouseDF.query(\"time in ['10AM', '2PM'] and occupation == 'Student' and CoffeeHouse in ['4~8', '1~3','gt8'] and passanger in ['Friend(s)', 'Partner', 'Kid(s)']\"))\n"
   ]
  },
  {
   "cell_type": "code",
   "execution_count": 79,
   "metadata": {},
   "outputs": [
    {
     "data": {
      "text/plain": [
       "636"
      ]
     },
     "execution_count": 79,
     "metadata": {},
     "output_type": "execute_result"
    }
   ],
   "source": [
    "len(coffeeHouseDF.query(\"time in ['10AM', '2PM'] and CoffeeHouse in ['4~8', '1~3','gt8'] and passanger in ['Friend(s)', 'Partner', 'Kid(s)']\"))\n",
    "#len(coffeeHouseDF.query(\"time in ['10AM', '2PM'] and occupation == 'Student' and CoffeeHouse in ['4~8', '1~3','gt8'] and passanger in ['Friend(s)', 'Partner', 'Kid(s)']\"))"
   ]
  },
  {
   "cell_type": "code",
   "execution_count": 44,
   "metadata": {},
   "outputs": [
    {
     "data": {
      "text/plain": [
       "3996"
      ]
     },
     "execution_count": 44,
     "metadata": {},
     "output_type": "execute_result"
    }
   ],
   "source": [
    "len(coffeeHouseDF)"
   ]
  },
  {
   "cell_type": "markdown",
   "metadata": {},
   "source": [
    "From this exercise I believe that we can use values across multiple columns to derive a higher approval rate than any column by itself. I believe an algorithm could be developed to run through each combination column/value to select the optimal column/value query. The population I have found includes the following query (time in ['10AM', '2PM'] and CoffeeHouse in ['4~8', '1~3','gt8'] and passanger in ['Friend(s)', 'Partner', 'Kid(s)']\") and results in an acceptance rate of 0.789308176100629 with a population size of 636."
   ]
  },
  {
   "cell_type": "code",
   "execution_count": null,
   "metadata": {},
   "outputs": [],
   "source": []
  },
  {
   "cell_type": "code",
   "execution_count": null,
   "metadata": {},
   "outputs": [],
   "source": []
  }
 ],
 "metadata": {
  "kernelspec": {
   "display_name": "Python 3",
   "language": "python",
   "name": "python3"
  },
  "language_info": {
   "codemirror_mode": {
    "name": "ipython",
    "version": 3
   },
   "file_extension": ".py",
   "mimetype": "text/x-python",
   "name": "python",
   "nbconvert_exporter": "python",
   "pygments_lexer": "ipython3",
   "version": "3.11.5"
  },
  "widgets": {
   "application/vnd.jupyter.widget-state+json": {
    "state": {},
    "version_major": 2,
    "version_minor": 0
   }
  }
 },
 "nbformat": 4,
 "nbformat_minor": 4
}
